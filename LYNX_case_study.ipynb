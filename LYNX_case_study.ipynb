{
  "cells": [
    {
      "cell_type": "code",
      "execution_count": 1,
      "metadata": {
        "id": "A9C4E_xgdBkC"
      },
      "outputs": [],
      "source": [
        "import warnings\n",
        "warnings.filterwarnings('ignore')"
      ]
    },
    {
      "cell_type": "code",
      "execution_count": 2,
      "metadata": {
        "id": "kx2-cTD7dFaB"
      },
      "outputs": [],
      "source": [
        "# Import necessary libraries\n",
        "import numpy as np\n",
        "import pandas as pd\n",
        "import io\n",
        "import seaborn as sns\n",
        "import matplotlib.pyplot as plt\n",
        "\n",
        "import scipy.stats as stats\n",
        "import datetime as datetime"
      ]
    },
    {
      "cell_type": "code",
      "execution_count": 60,
      "metadata": {
        "colab": {
          "base_uri": "https://localhost:8080/",
          "height": 487
        },
        "id": "K3e8tx30c2Oc",
        "outputId": "e4dfb19c-5fa8-4b60-cb83-e38f85f54187"
      },
      "outputs": [
        {
          "data": {
            "text/html": [
              "<div>\n",
              "<style scoped>\n",
              "    .dataframe tbody tr th:only-of-type {\n",
              "        vertical-align: middle;\n",
              "    }\n",
              "\n",
              "    .dataframe tbody tr th {\n",
              "        vertical-align: top;\n",
              "    }\n",
              "\n",
              "    .dataframe thead th {\n",
              "        text-align: right;\n",
              "    }\n",
              "</style>\n",
              "<table border=\"1\" class=\"dataframe\">\n",
              "  <thead>\n",
              "    <tr style=\"text-align: right;\">\n",
              "      <th></th>\n",
              "      <th>VendorID</th>\n",
              "      <th>tpep_pickup_datetime</th>\n",
              "      <th>tpep_dropoff_datetime</th>\n",
              "      <th>passenger_count</th>\n",
              "      <th>trip_distance</th>\n",
              "      <th>RatecodeID</th>\n",
              "      <th>store_and_fwd_flag</th>\n",
              "      <th>PULocationID</th>\n",
              "      <th>DOLocationID</th>\n",
              "      <th>payment_type</th>\n",
              "      <th>fare_amount</th>\n",
              "      <th>extra</th>\n",
              "      <th>mta_tax</th>\n",
              "      <th>tip_amount</th>\n",
              "      <th>tolls_amount</th>\n",
              "      <th>improvement_surcharge</th>\n",
              "      <th>total_amount</th>\n",
              "      <th>congestion_surcharge</th>\n",
              "      <th>airport_fee</th>\n",
              "    </tr>\n",
              "  </thead>\n",
              "  <tbody>\n",
              "    <tr>\n",
              "      <th>0</th>\n",
              "      <td>2</td>\n",
              "      <td>01-01-2018 12:02</td>\n",
              "      <td>01-01-2018 12:04</td>\n",
              "      <td>1.0</td>\n",
              "      <td>0.53</td>\n",
              "      <td>1.0</td>\n",
              "      <td>N</td>\n",
              "      <td>142</td>\n",
              "      <td>163</td>\n",
              "      <td>1</td>\n",
              "      <td>3.5</td>\n",
              "      <td>0.0</td>\n",
              "      <td>0.5</td>\n",
              "      <td>1.29</td>\n",
              "      <td>0.0</td>\n",
              "      <td>0.3</td>\n",
              "      <td>5.59</td>\n",
              "      <td>NaN</td>\n",
              "      <td>NaN</td>\n",
              "    </tr>\n",
              "    <tr>\n",
              "      <th>1</th>\n",
              "      <td>2</td>\n",
              "      <td>01-01-2018 12:26</td>\n",
              "      <td>01-01-2018 12:31</td>\n",
              "      <td>1.0</td>\n",
              "      <td>1.05</td>\n",
              "      <td>1.0</td>\n",
              "      <td>N</td>\n",
              "      <td>140</td>\n",
              "      <td>236</td>\n",
              "      <td>1</td>\n",
              "      <td>6.0</td>\n",
              "      <td>0.0</td>\n",
              "      <td>0.5</td>\n",
              "      <td>1.02</td>\n",
              "      <td>0.0</td>\n",
              "      <td>0.3</td>\n",
              "      <td>7.82</td>\n",
              "      <td>NaN</td>\n",
              "      <td>NaN</td>\n",
              "    </tr>\n",
              "    <tr>\n",
              "      <th>2</th>\n",
              "      <td>2</td>\n",
              "      <td>01-01-2018 01:28</td>\n",
              "      <td>01-01-2018 01:39</td>\n",
              "      <td>4.0</td>\n",
              "      <td>1.83</td>\n",
              "      <td>1.0</td>\n",
              "      <td>N</td>\n",
              "      <td>211</td>\n",
              "      <td>158</td>\n",
              "      <td>1</td>\n",
              "      <td>9.5</td>\n",
              "      <td>0.5</td>\n",
              "      <td>0.5</td>\n",
              "      <td>1.62</td>\n",
              "      <td>0.0</td>\n",
              "      <td>0.3</td>\n",
              "      <td>12.42</td>\n",
              "      <td>NaN</td>\n",
              "      <td>NaN</td>\n",
              "    </tr>\n",
              "    <tr>\n",
              "      <th>3</th>\n",
              "      <td>1</td>\n",
              "      <td>01-01-2018 08:51</td>\n",
              "      <td>01-01-2018 09:01</td>\n",
              "      <td>1.0</td>\n",
              "      <td>2.30</td>\n",
              "      <td>1.0</td>\n",
              "      <td>N</td>\n",
              "      <td>249</td>\n",
              "      <td>4</td>\n",
              "      <td>2</td>\n",
              "      <td>10.0</td>\n",
              "      <td>0.0</td>\n",
              "      <td>0.5</td>\n",
              "      <td>0.00</td>\n",
              "      <td>0.0</td>\n",
              "      <td>0.3</td>\n",
              "      <td>10.80</td>\n",
              "      <td>NaN</td>\n",
              "      <td>NaN</td>\n",
              "    </tr>\n",
              "    <tr>\n",
              "      <th>4</th>\n",
              "      <td>2</td>\n",
              "      <td>01-01-2018 01:00</td>\n",
              "      <td>01-01-2018 01:14</td>\n",
              "      <td>1.0</td>\n",
              "      <td>3.06</td>\n",
              "      <td>1.0</td>\n",
              "      <td>N</td>\n",
              "      <td>186</td>\n",
              "      <td>142</td>\n",
              "      <td>1</td>\n",
              "      <td>12.5</td>\n",
              "      <td>0.5</td>\n",
              "      <td>0.5</td>\n",
              "      <td>1.00</td>\n",
              "      <td>0.0</td>\n",
              "      <td>0.3</td>\n",
              "      <td>14.80</td>\n",
              "      <td>NaN</td>\n",
              "      <td>NaN</td>\n",
              "    </tr>\n",
              "    <tr>\n",
              "      <th>...</th>\n",
              "      <td>...</td>\n",
              "      <td>...</td>\n",
              "      <td>...</td>\n",
              "      <td>...</td>\n",
              "      <td>...</td>\n",
              "      <td>...</td>\n",
              "      <td>...</td>\n",
              "      <td>...</td>\n",
              "      <td>...</td>\n",
              "      <td>...</td>\n",
              "      <td>...</td>\n",
              "      <td>...</td>\n",
              "      <td>...</td>\n",
              "      <td>...</td>\n",
              "      <td>...</td>\n",
              "      <td>...</td>\n",
              "      <td>...</td>\n",
              "      <td>...</td>\n",
              "      <td>...</td>\n",
              "    </tr>\n",
              "    <tr>\n",
              "      <th>304973</th>\n",
              "      <td>1</td>\n",
              "      <td>31-01-2023 00:11</td>\n",
              "      <td>31-01-2023 00:38</td>\n",
              "      <td>1.0</td>\n",
              "      <td>9.90</td>\n",
              "      <td>99.0</td>\n",
              "      <td>N</td>\n",
              "      <td>48</td>\n",
              "      <td>47</td>\n",
              "      <td>1</td>\n",
              "      <td>35.5</td>\n",
              "      <td>0.0</td>\n",
              "      <td>0.5</td>\n",
              "      <td>0.00</td>\n",
              "      <td>0.0</td>\n",
              "      <td>1.0</td>\n",
              "      <td>37.00</td>\n",
              "      <td>0.0</td>\n",
              "      <td>0.0</td>\n",
              "    </tr>\n",
              "    <tr>\n",
              "      <th>304974</th>\n",
              "      <td>2</td>\n",
              "      <td>31-01-2023 16:06</td>\n",
              "      <td>31-01-2023 16:52</td>\n",
              "      <td>1.0</td>\n",
              "      <td>8.27</td>\n",
              "      <td>1.0</td>\n",
              "      <td>N</td>\n",
              "      <td>87</td>\n",
              "      <td>75</td>\n",
              "      <td>2</td>\n",
              "      <td>44.3</td>\n",
              "      <td>2.5</td>\n",
              "      <td>0.5</td>\n",
              "      <td>0.00</td>\n",
              "      <td>0.0</td>\n",
              "      <td>1.0</td>\n",
              "      <td>50.80</td>\n",
              "      <td>2.5</td>\n",
              "      <td>0.0</td>\n",
              "    </tr>\n",
              "    <tr>\n",
              "      <th>304975</th>\n",
              "      <td>2</td>\n",
              "      <td>31-01-2023 15:31</td>\n",
              "      <td>31-01-2023 15:44</td>\n",
              "      <td>1.0</td>\n",
              "      <td>0.71</td>\n",
              "      <td>1.0</td>\n",
              "      <td>N</td>\n",
              "      <td>236</td>\n",
              "      <td>236</td>\n",
              "      <td>2</td>\n",
              "      <td>12.1</td>\n",
              "      <td>0.0</td>\n",
              "      <td>0.5</td>\n",
              "      <td>0.00</td>\n",
              "      <td>0.0</td>\n",
              "      <td>1.0</td>\n",
              "      <td>16.10</td>\n",
              "      <td>2.5</td>\n",
              "      <td>0.0</td>\n",
              "    </tr>\n",
              "    <tr>\n",
              "      <th>304976</th>\n",
              "      <td>1</td>\n",
              "      <td>31-01-2023 20:35</td>\n",
              "      <td>31-01-2023 20:42</td>\n",
              "      <td>1.0</td>\n",
              "      <td>1.80</td>\n",
              "      <td>1.0</td>\n",
              "      <td>N</td>\n",
              "      <td>141</td>\n",
              "      <td>170</td>\n",
              "      <td>2</td>\n",
              "      <td>10.7</td>\n",
              "      <td>3.5</td>\n",
              "      <td>0.5</td>\n",
              "      <td>0.00</td>\n",
              "      <td>0.0</td>\n",
              "      <td>1.0</td>\n",
              "      <td>15.70</td>\n",
              "      <td>2.5</td>\n",
              "      <td>0.0</td>\n",
              "    </tr>\n",
              "    <tr>\n",
              "      <th>304977</th>\n",
              "      <td>1</td>\n",
              "      <td>31-01-2023 08:57</td>\n",
              "      <td>31-01-2023 09:25</td>\n",
              "      <td>1.0</td>\n",
              "      <td>6.70</td>\n",
              "      <td>1.0</td>\n",
              "      <td>N</td>\n",
              "      <td>236</td>\n",
              "      <td>114</td>\n",
              "      <td>1</td>\n",
              "      <td>32.4</td>\n",
              "      <td>2.5</td>\n",
              "      <td>0.5</td>\n",
              "      <td>7.28</td>\n",
              "      <td>0.0</td>\n",
              "      <td>1.0</td>\n",
              "      <td>43.68</td>\n",
              "      <td>2.5</td>\n",
              "      <td>0.0</td>\n",
              "    </tr>\n",
              "  </tbody>\n",
              "</table>\n",
              "<p>304978 rows × 19 columns</p>\n",
              "</div>"
            ],
            "text/plain": [
              "        VendorID tpep_pickup_datetime tpep_dropoff_datetime  passenger_count   \n",
              "0              2     01-01-2018 12:02      01-01-2018 12:04              1.0  \\\n",
              "1              2     01-01-2018 12:26      01-01-2018 12:31              1.0   \n",
              "2              2     01-01-2018 01:28      01-01-2018 01:39              4.0   \n",
              "3              1     01-01-2018 08:51      01-01-2018 09:01              1.0   \n",
              "4              2     01-01-2018 01:00      01-01-2018 01:14              1.0   \n",
              "...          ...                  ...                   ...              ...   \n",
              "304973         1     31-01-2023 00:11      31-01-2023 00:38              1.0   \n",
              "304974         2     31-01-2023 16:06      31-01-2023 16:52              1.0   \n",
              "304975         2     31-01-2023 15:31      31-01-2023 15:44              1.0   \n",
              "304976         1     31-01-2023 20:35      31-01-2023 20:42              1.0   \n",
              "304977         1     31-01-2023 08:57      31-01-2023 09:25              1.0   \n",
              "\n",
              "        trip_distance  RatecodeID store_and_fwd_flag  PULocationID   \n",
              "0                0.53         1.0                  N           142  \\\n",
              "1                1.05         1.0                  N           140   \n",
              "2                1.83         1.0                  N           211   \n",
              "3                2.30         1.0                  N           249   \n",
              "4                3.06         1.0                  N           186   \n",
              "...               ...         ...                ...           ...   \n",
              "304973           9.90        99.0                  N            48   \n",
              "304974           8.27         1.0                  N            87   \n",
              "304975           0.71         1.0                  N           236   \n",
              "304976           1.80         1.0                  N           141   \n",
              "304977           6.70         1.0                  N           236   \n",
              "\n",
              "        DOLocationID  payment_type  fare_amount  extra  mta_tax  tip_amount   \n",
              "0                163             1          3.5    0.0      0.5        1.29  \\\n",
              "1                236             1          6.0    0.0      0.5        1.02   \n",
              "2                158             1          9.5    0.5      0.5        1.62   \n",
              "3                  4             2         10.0    0.0      0.5        0.00   \n",
              "4                142             1         12.5    0.5      0.5        1.00   \n",
              "...              ...           ...          ...    ...      ...         ...   \n",
              "304973            47             1         35.5    0.0      0.5        0.00   \n",
              "304974            75             2         44.3    2.5      0.5        0.00   \n",
              "304975           236             2         12.1    0.0      0.5        0.00   \n",
              "304976           170             2         10.7    3.5      0.5        0.00   \n",
              "304977           114             1         32.4    2.5      0.5        7.28   \n",
              "\n",
              "        tolls_amount  improvement_surcharge  total_amount   \n",
              "0                0.0                    0.3          5.59  \\\n",
              "1                0.0                    0.3          7.82   \n",
              "2                0.0                    0.3         12.42   \n",
              "3                0.0                    0.3         10.80   \n",
              "4                0.0                    0.3         14.80   \n",
              "...              ...                    ...           ...   \n",
              "304973           0.0                    1.0         37.00   \n",
              "304974           0.0                    1.0         50.80   \n",
              "304975           0.0                    1.0         16.10   \n",
              "304976           0.0                    1.0         15.70   \n",
              "304977           0.0                    1.0         43.68   \n",
              "\n",
              "        congestion_surcharge  airport_fee  \n",
              "0                        NaN          NaN  \n",
              "1                        NaN          NaN  \n",
              "2                        NaN          NaN  \n",
              "3                        NaN          NaN  \n",
              "4                        NaN          NaN  \n",
              "...                      ...          ...  \n",
              "304973                   0.0          0.0  \n",
              "304974                   2.5          0.0  \n",
              "304975                   2.5          0.0  \n",
              "304976                   2.5          0.0  \n",
              "304977                   2.5          0.0  \n",
              "\n",
              "[304978 rows x 19 columns]"
            ]
          },
          "execution_count": 60,
          "metadata": {},
          "output_type": "execute_result"
        }
      ],
      "source": [
        "# Read data\n",
        "df = pd.read_csv(\"C:/Users/Sachin/Desktop/Sachin/CV/Lynx/NYC_TLC_Yellow_Taxi_Data-main/Yellow_Taxi_Assignment.csv\")\n",
        "df"
      ]
    },
    {
      "attachments": {},
      "cell_type": "markdown",
      "metadata": {
        "id": "gLmnJpWCgtZB"
      },
      "source": [
        "Dataset contains 304978 rows and 19 columns\n"
      ]
    },
    {
      "cell_type": "code",
      "execution_count": 35,
      "metadata": {
        "colab": {
          "base_uri": "https://localhost:8080/"
        },
        "id": "i_wftY4HgpAC",
        "outputId": "5038a772-20d8-4a45-ea52-bb28ed90afc9"
      },
      "outputs": [
        {
          "name": "stdout",
          "output_type": "stream",
          "text": [
            "<class 'pandas.core.frame.DataFrame'>\n",
            "RangeIndex: 304978 entries, 0 to 304977\n",
            "Data columns (total 19 columns):\n",
            " #   Column                 Non-Null Count   Dtype  \n",
            "---  ------                 --------------   -----  \n",
            " 0   VendorID               304978 non-null  int64  \n",
            " 1   tpep_pickup_datetime   304978 non-null  object \n",
            " 2   tpep_dropoff_datetime  304978 non-null  object \n",
            " 3   passenger_count        295465 non-null  float64\n",
            " 4   trip_distance          304978 non-null  float64\n",
            " 5   RatecodeID             295465 non-null  float64\n",
            " 6   store_and_fwd_flag     295465 non-null  object \n",
            " 7   PULocationID           304978 non-null  int64  \n",
            " 8   DOLocationID           304978 non-null  int64  \n",
            " 9   payment_type           304978 non-null  int64  \n",
            " 10  fare_amount            304978 non-null  float64\n",
            " 11  extra                  304978 non-null  float64\n",
            " 12  mta_tax                304978 non-null  float64\n",
            " 13  tip_amount             304978 non-null  float64\n",
            " 14  tolls_amount           304978 non-null  float64\n",
            " 15  improvement_surcharge  304978 non-null  float64\n",
            " 16  total_amount           304978 non-null  float64\n",
            " 17  congestion_surcharge   232346 non-null  float64\n",
            " 18  airport_fee            106217 non-null  float64\n",
            "dtypes: float64(12), int64(4), object(3)\n",
            "memory usage: 44.2+ MB\n"
          ]
        }
      ],
      "source": [
        "#Now, find the datatypes of the columns/ variables\n",
        "df.info()"
      ]
    },
    {
      "cell_type": "code",
      "execution_count": 36,
      "metadata": {
        "colab": {
          "base_uri": "https://localhost:8080/"
        },
        "id": "xMyeFl-tR52P",
        "outputId": "9672f61d-5e7a-491e-fef2-3c124fcda2a0"
      },
      "outputs": [
        {
          "data": {
            "text/plain": [
              "VendorID                      0\n",
              "tpep_pickup_datetime          0\n",
              "tpep_dropoff_datetime         0\n",
              "passenger_count            9513\n",
              "trip_distance                 0\n",
              "RatecodeID                 9513\n",
              "store_and_fwd_flag         9513\n",
              "PULocationID                  0\n",
              "DOLocationID                  0\n",
              "payment_type                  0\n",
              "fare_amount                   0\n",
              "extra                         0\n",
              "mta_tax                       0\n",
              "tip_amount                    0\n",
              "tolls_amount                  0\n",
              "improvement_surcharge         0\n",
              "total_amount                  0\n",
              "congestion_surcharge      72632\n",
              "airport_fee              198761\n",
              "dtype: int64"
            ]
          },
          "execution_count": 36,
          "metadata": {},
          "output_type": "execute_result"
        }
      ],
      "source": [
        "# Find number of null values in dataset\n",
        "df.isnull().sum()\n",
        "\n",
        "# passenger_count has 9513, store_and_fwd_flag has 9513, congestion_surcharge has 72632 and airport_fee has 198761 null values"
      ]
    },
    {
      "attachments": {},
      "cell_type": "markdown",
      "metadata": {
        "id": "85GWvzpuDrXL"
      },
      "source": [
        "As per business understanding changing the data type of VendorID, RatecodeID, payment_type as those variables are supposed to be categorical variables"
      ]
    },
    {
      "cell_type": "code",
      "execution_count": 61,
      "metadata": {
        "colab": {
          "base_uri": "https://localhost:8080/"
        },
        "id": "j78VLfNqftfe",
        "outputId": "cff237a7-8dfc-4843-c210-1fee282d31fb"
      },
      "outputs": [
        {
          "name": "stdout",
          "output_type": "stream",
          "text": [
            "<class 'pandas.core.frame.DataFrame'>\n",
            "RangeIndex: 304978 entries, 0 to 304977\n",
            "Data columns (total 19 columns):\n",
            " #   Column                 Non-Null Count   Dtype  \n",
            "---  ------                 --------------   -----  \n",
            " 0   VendorID               304978 non-null  object \n",
            " 1   tpep_pickup_datetime   304978 non-null  object \n",
            " 2   tpep_dropoff_datetime  304978 non-null  object \n",
            " 3   passenger_count        295465 non-null  float64\n",
            " 4   trip_distance          304978 non-null  float64\n",
            " 5   RatecodeID             304978 non-null  object \n",
            " 6   store_and_fwd_flag     295465 non-null  object \n",
            " 7   PULocationID           304978 non-null  int64  \n",
            " 8   DOLocationID           304978 non-null  int64  \n",
            " 9   payment_type           304978 non-null  object \n",
            " 10  fare_amount            304978 non-null  float64\n",
            " 11  extra                  304978 non-null  float64\n",
            " 12  mta_tax                304978 non-null  float64\n",
            " 13  tip_amount             304978 non-null  float64\n",
            " 14  tolls_amount           304978 non-null  float64\n",
            " 15  improvement_surcharge  304978 non-null  float64\n",
            " 16  total_amount           304978 non-null  float64\n",
            " 17  congestion_surcharge   232346 non-null  float64\n",
            " 18  airport_fee            106217 non-null  float64\n",
            "dtypes: float64(11), int64(2), object(6)\n",
            "memory usage: 44.2+ MB\n"
          ]
        }
      ],
      "source": [
        "df['VendorID'] = df['VendorID'].astype('str')\n",
        "df['RatecodeID'] = df['RatecodeID'].astype('str')\n",
        "df['payment_type'] = df['payment_type'].astype('str')\n",
        "#df['PULocationID'] = df['PULocationID'].astype('str')\n",
        "#df['DOLocationID'] = df['DOLocationID'].astype('str')\n",
        "\n",
        "\n",
        "df.info()"
      ]
    },
    {
      "attachments": {},
      "cell_type": "markdown",
      "metadata": {
        "id": "kvgwj-HQgo7V"
      },
      "source": [
        "Find the summary of numerical variables. eg min & max values, mean e.t.c"
      ]
    },
    {
      "cell_type": "code",
      "execution_count": 25,
      "metadata": {
        "colab": {
          "base_uri": "https://localhost:8080/",
          "height": 379
        },
        "id": "n6SRHQ1WDqcp",
        "outputId": "105acac5-5549-43df-ca6d-0b9191efc420"
      },
      "outputs": [
        {
          "data": {
            "text/html": [
              "\n",
              "  <div id=\"df-0865b345-4e84-45ef-bba8-f787b3b22b4f\">\n",
              "    <div class=\"colab-df-container\">\n",
              "      <div>\n",
              "<style scoped>\n",
              "    .dataframe tbody tr th:only-of-type {\n",
              "        vertical-align: middle;\n",
              "    }\n",
              "\n",
              "    .dataframe tbody tr th {\n",
              "        vertical-align: top;\n",
              "    }\n",
              "\n",
              "    .dataframe thead th {\n",
              "        text-align: right;\n",
              "    }\n",
              "</style>\n",
              "<table border=\"1\" class=\"dataframe\">\n",
              "  <thead>\n",
              "    <tr style=\"text-align: right;\">\n",
              "      <th></th>\n",
              "      <th>passenger_count</th>\n",
              "      <th>trip_distance</th>\n",
              "      <th>fare_amount</th>\n",
              "      <th>extra</th>\n",
              "      <th>mta_tax</th>\n",
              "      <th>tip_amount</th>\n",
              "      <th>tolls_amount</th>\n",
              "      <th>improvement_surcharge</th>\n",
              "      <th>total_amount</th>\n",
              "      <th>congestion_surcharge</th>\n",
              "      <th>airport_fee</th>\n",
              "      <th>Trip_duration</th>\n",
              "    </tr>\n",
              "  </thead>\n",
              "  <tbody>\n",
              "    <tr>\n",
              "      <th>count</th>\n",
              "      <td>295465.000000</td>\n",
              "      <td>304978.000000</td>\n",
              "      <td>304978.000000</td>\n",
              "      <td>304978.000000</td>\n",
              "      <td>304978.000000</td>\n",
              "      <td>304978.000000</td>\n",
              "      <td>304978.000000</td>\n",
              "      <td>304978.000000</td>\n",
              "      <td>304978.000000</td>\n",
              "      <td>232346.000000</td>\n",
              "      <td>106217.000000</td>\n",
              "      <td>304978</td>\n",
              "    </tr>\n",
              "    <tr>\n",
              "      <th>mean</th>\n",
              "      <td>1.479126</td>\n",
              "      <td>4.587589</td>\n",
              "      <td>13.510189</td>\n",
              "      <td>0.903506</td>\n",
              "      <td>0.492755</td>\n",
              "      <td>2.224064</td>\n",
              "      <td>0.390715</td>\n",
              "      <td>0.312725</td>\n",
              "      <td>19.050501</td>\n",
              "      <td>2.241650</td>\n",
              "      <td>0.085815</td>\n",
              "      <td>0 days 00:16:41.830522201</td>\n",
              "    </tr>\n",
              "    <tr>\n",
              "      <th>std</th>\n",
              "      <td>1.108255</td>\n",
              "      <td>434.226624</td>\n",
              "      <td>12.636651</td>\n",
              "      <td>1.185321</td>\n",
              "      <td>0.074023</td>\n",
              "      <td>2.765200</td>\n",
              "      <td>1.699547</td>\n",
              "      <td>0.110404</td>\n",
              "      <td>15.464014</td>\n",
              "      <td>0.791877</td>\n",
              "      <td>0.318628</td>\n",
              "      <td>0 days 00:59:54.205735005</td>\n",
              "    </tr>\n",
              "    <tr>\n",
              "      <th>min</th>\n",
              "      <td>0.000000</td>\n",
              "      <td>-16.860000</td>\n",
              "      <td>-197.000000</td>\n",
              "      <td>-6.000000</td>\n",
              "      <td>-0.500000</td>\n",
              "      <td>-20.000000</td>\n",
              "      <td>-13.750000</td>\n",
              "      <td>-1.000000</td>\n",
              "      <td>-198.550000</td>\n",
              "      <td>-2.500000</td>\n",
              "      <td>-1.250000</td>\n",
              "      <td>-1 days +23:15:52</td>\n",
              "    </tr>\n",
              "    <tr>\n",
              "      <th>25%</th>\n",
              "      <td>1.000000</td>\n",
              "      <td>1.000000</td>\n",
              "      <td>6.500000</td>\n",
              "      <td>0.000000</td>\n",
              "      <td>0.500000</td>\n",
              "      <td>0.000000</td>\n",
              "      <td>0.000000</td>\n",
              "      <td>0.300000</td>\n",
              "      <td>10.800000</td>\n",
              "      <td>2.500000</td>\n",
              "      <td>0.000000</td>\n",
              "      <td>0 days 00:06:36</td>\n",
              "    </tr>\n",
              "    <tr>\n",
              "      <th>50%</th>\n",
              "      <td>1.000000</td>\n",
              "      <td>1.730000</td>\n",
              "      <td>9.500000</td>\n",
              "      <td>0.500000</td>\n",
              "      <td>0.500000</td>\n",
              "      <td>1.860000</td>\n",
              "      <td>0.000000</td>\n",
              "      <td>0.300000</td>\n",
              "      <td>14.300000</td>\n",
              "      <td>2.500000</td>\n",
              "      <td>0.000000</td>\n",
              "      <td>0 days 00:11:01</td>\n",
              "    </tr>\n",
              "    <tr>\n",
              "      <th>75%</th>\n",
              "      <td>2.000000</td>\n",
              "      <td>3.210000</td>\n",
              "      <td>15.000000</td>\n",
              "      <td>1.000000</td>\n",
              "      <td>0.500000</td>\n",
              "      <td>2.950000</td>\n",
              "      <td>0.000000</td>\n",
              "      <td>0.300000</td>\n",
              "      <td>20.760000</td>\n",
              "      <td>2.500000</td>\n",
              "      <td>0.000000</td>\n",
              "      <td>0 days 00:18:03</td>\n",
              "    </tr>\n",
              "    <tr>\n",
              "      <th>max</th>\n",
              "      <td>6.000000</td>\n",
              "      <td>177247.400000</td>\n",
              "      <td>455.000000</td>\n",
              "      <td>18.500000</td>\n",
              "      <td>2.540000</td>\n",
              "      <td>115.560000</td>\n",
              "      <td>96.550000</td>\n",
              "      <td>1.000000</td>\n",
              "      <td>561.490000</td>\n",
              "      <td>2.750000</td>\n",
              "      <td>1.250000</td>\n",
              "      <td>0 days 23:59:52</td>\n",
              "    </tr>\n",
              "  </tbody>\n",
              "</table>\n",
              "</div>\n",
              "      <button class=\"colab-df-convert\" onclick=\"convertToInteractive('df-0865b345-4e84-45ef-bba8-f787b3b22b4f')\"\n",
              "              title=\"Convert this dataframe to an interactive table.\"\n",
              "              style=\"display:none;\">\n",
              "        \n",
              "  <svg xmlns=\"http://www.w3.org/2000/svg\" height=\"24px\"viewBox=\"0 0 24 24\"\n",
              "       width=\"24px\">\n",
              "    <path d=\"M0 0h24v24H0V0z\" fill=\"none\"/>\n",
              "    <path d=\"M18.56 5.44l.94 2.06.94-2.06 2.06-.94-2.06-.94-.94-2.06-.94 2.06-2.06.94zm-11 1L8.5 8.5l.94-2.06 2.06-.94-2.06-.94L8.5 2.5l-.94 2.06-2.06.94zm10 10l.94 2.06.94-2.06 2.06-.94-2.06-.94-.94-2.06-.94 2.06-2.06.94z\"/><path d=\"M17.41 7.96l-1.37-1.37c-.4-.4-.92-.59-1.43-.59-.52 0-1.04.2-1.43.59L10.3 9.45l-7.72 7.72c-.78.78-.78 2.05 0 2.83L4 21.41c.39.39.9.59 1.41.59.51 0 1.02-.2 1.41-.59l7.78-7.78 2.81-2.81c.8-.78.8-2.07 0-2.86zM5.41 20L4 18.59l7.72-7.72 1.47 1.35L5.41 20z\"/>\n",
              "  </svg>\n",
              "      </button>\n",
              "      \n",
              "  <style>\n",
              "    .colab-df-container {\n",
              "      display:flex;\n",
              "      flex-wrap:wrap;\n",
              "      gap: 12px;\n",
              "    }\n",
              "\n",
              "    .colab-df-convert {\n",
              "      background-color: #E8F0FE;\n",
              "      border: none;\n",
              "      border-radius: 50%;\n",
              "      cursor: pointer;\n",
              "      display: none;\n",
              "      fill: #1967D2;\n",
              "      height: 32px;\n",
              "      padding: 0 0 0 0;\n",
              "      width: 32px;\n",
              "    }\n",
              "\n",
              "    .colab-df-convert:hover {\n",
              "      background-color: #E2EBFA;\n",
              "      box-shadow: 0px 1px 2px rgba(60, 64, 67, 0.3), 0px 1px 3px 1px rgba(60, 64, 67, 0.15);\n",
              "      fill: #174EA6;\n",
              "    }\n",
              "\n",
              "    [theme=dark] .colab-df-convert {\n",
              "      background-color: #3B4455;\n",
              "      fill: #D2E3FC;\n",
              "    }\n",
              "\n",
              "    [theme=dark] .colab-df-convert:hover {\n",
              "      background-color: #434B5C;\n",
              "      box-shadow: 0px 1px 3px 1px rgba(0, 0, 0, 0.15);\n",
              "      filter: drop-shadow(0px 1px 2px rgba(0, 0, 0, 0.3));\n",
              "      fill: #FFFFFF;\n",
              "    }\n",
              "  </style>\n",
              "\n",
              "      <script>\n",
              "        const buttonEl =\n",
              "          document.querySelector('#df-0865b345-4e84-45ef-bba8-f787b3b22b4f button.colab-df-convert');\n",
              "        buttonEl.style.display =\n",
              "          google.colab.kernel.accessAllowed ? 'block' : 'none';\n",
              "\n",
              "        async function convertToInteractive(key) {\n",
              "          const element = document.querySelector('#df-0865b345-4e84-45ef-bba8-f787b3b22b4f');\n",
              "          const dataTable =\n",
              "            await google.colab.kernel.invokeFunction('convertToInteractive',\n",
              "                                                     [key], {});\n",
              "          if (!dataTable) return;\n",
              "\n",
              "          const docLinkHtml = 'Like what you see? Visit the ' +\n",
              "            '<a target=\"_blank\" href=https://colab.research.google.com/notebooks/data_table.ipynb>data table notebook</a>'\n",
              "            + ' to learn more about interactive tables.';\n",
              "          element.innerHTML = '';\n",
              "          dataTable['output_type'] = 'display_data';\n",
              "          await google.colab.output.renderOutput(dataTable, element);\n",
              "          const docLink = document.createElement('div');\n",
              "          docLink.innerHTML = docLinkHtml;\n",
              "          element.appendChild(docLink);\n",
              "        }\n",
              "      </script>\n",
              "    </div>\n",
              "  </div>\n",
              "  "
            ],
            "text/plain": [
              "       passenger_count  trip_distance    fare_amount          extra  \\\n",
              "count    295465.000000  304978.000000  304978.000000  304978.000000   \n",
              "mean          1.479126       4.587589      13.510189       0.903506   \n",
              "std           1.108255     434.226624      12.636651       1.185321   \n",
              "min           0.000000     -16.860000    -197.000000      -6.000000   \n",
              "25%           1.000000       1.000000       6.500000       0.000000   \n",
              "50%           1.000000       1.730000       9.500000       0.500000   \n",
              "75%           2.000000       3.210000      15.000000       1.000000   \n",
              "max           6.000000  177247.400000     455.000000      18.500000   \n",
              "\n",
              "             mta_tax     tip_amount   tolls_amount  improvement_surcharge  \\\n",
              "count  304978.000000  304978.000000  304978.000000          304978.000000   \n",
              "mean        0.492755       2.224064       0.390715               0.312725   \n",
              "std         0.074023       2.765200       1.699547               0.110404   \n",
              "min        -0.500000     -20.000000     -13.750000              -1.000000   \n",
              "25%         0.500000       0.000000       0.000000               0.300000   \n",
              "50%         0.500000       1.860000       0.000000               0.300000   \n",
              "75%         0.500000       2.950000       0.000000               0.300000   \n",
              "max         2.540000     115.560000      96.550000               1.000000   \n",
              "\n",
              "        total_amount  congestion_surcharge    airport_fee  \\\n",
              "count  304978.000000         232346.000000  106217.000000   \n",
              "mean       19.050501              2.241650       0.085815   \n",
              "std        15.464014              0.791877       0.318628   \n",
              "min      -198.550000             -2.500000      -1.250000   \n",
              "25%        10.800000              2.500000       0.000000   \n",
              "50%        14.300000              2.500000       0.000000   \n",
              "75%        20.760000              2.500000       0.000000   \n",
              "max       561.490000              2.750000       1.250000   \n",
              "\n",
              "                   Trip_duration  \n",
              "count                     304978  \n",
              "mean   0 days 00:16:41.830522201  \n",
              "std    0 days 00:59:54.205735005  \n",
              "min            -1 days +23:15:52  \n",
              "25%              0 days 00:06:36  \n",
              "50%              0 days 00:11:01  \n",
              "75%              0 days 00:18:03  \n",
              "max              0 days 23:59:52  "
            ]
          },
          "execution_count": 25,
          "metadata": {},
          "output_type": "execute_result"
        }
      ],
      "source": [
        "df.describe()"
      ]
    },
    {
      "attachments": {},
      "cell_type": "markdown",
      "metadata": {
        "id": "MleclcX_XJP7"
      },
      "source": [
        "\n",
        "1.   passenger_count - minimum value is 0 and max value is 6 with average of 1 \n",
        "passenger. value '0' ( passenger count = 0) can be considered as either cancelled trip or mistake in the entry as its entered by the driver himself.\n",
        "\n",
        "2.   trip_distance - minimum value is -16.86 which is not possible as trip distance will be greater than zero and it sould be treated. average distance is 4.58 and max distance is 177247 which is outliers and not possible. from excel, found that there are some trips which has wrong trip_distances which should be treated.\n",
        "\n",
        "3.  PULocationID & DOLocationID - there are 265 destinations from which either trips has started or ended.\n",
        "\n",
        "4. fare_amount - minimum fare_amount is -197 which is not possible, so value treatment should be done. maximum is 455 and average fare_amount is 13.51.\n",
        "\n",
        "5. extra - minimum extra is -6 which is not possible, so value treatment should be done. maximum is 18.5 and average extra is 0.90\n",
        "\n",
        "6. mta_tax - minimum mta_tax is -0.50 which is not possible, so value treatment should be done. maximum is 2.54 and average mta_tax is 0.49.\n",
        "\n",
        "7. tip_amount - minimum tip_amount is -0.20 which is not possible, so value treatment should be done. maximum is 115.56 and average mta_tax is 2.22.\n",
        "\n",
        "8. tolls_amount - minimum tolls_amount is -13.75 which is not possible, so value treatment should be done. maximum is 96.5 and average mta_tax is 0.39\n",
        "\n",
        "9. improvement_surcharge - minimum improvement_surcharge is -1 which is not possible, so value treatment should be done. maximum is 1 and average mta_tax is 0.31.\n",
        "\n",
        "10.   total_amount - minimum total_amount is -198.55 which is not possible, so value treatment should be done. maximum is 561.49 and average mta_tax is 19.05.\n",
        "\n",
        "11.   congestion_surcharge - minimum congestion_surcharge is -2.5 which is not possible, so value treatment should be done. maximum is 2.75 and average mta_tax is 2.24.\n",
        "\n",
        "12.   airport_fee - minimum airport_fee is -1.25 which is not possible, so value treatment should be done. maximum is 1.25 and average mta_tax is 0.085"
      ]
    },
    {
      "attachments": {},
      "cell_type": "markdown",
      "metadata": {},
      "source": [
        "Lets check how many records has each TPEP provider provided"
      ]
    },
    {
      "cell_type": "code",
      "execution_count": 26,
      "metadata": {
        "colab": {
          "base_uri": "https://localhost:8080/",
          "height": 398
        },
        "id": "eDn6tr0ggjGU",
        "outputId": "5fc98a8b-63ea-495e-8919-7ded3b2c2cad"
      },
      "outputs": [
        {
          "name": "stdout",
          "output_type": "stream",
          "text": [
            "Percentage of entries from VendorID - 1 (Creative Mobile Technologies. LLC) -  33.74 %\n",
            "Percentage of entries from VendorID - 2 (VeriFone Inc) -  65.93 %\n",
            "Percentage of entries from unknown VendorID - 4 -  0.16 %\n",
            "Percentage of entries from unknown VendorID - 5 -  0.0 %\n",
            "Percentage of entries from unknown VendorID - 6 -  0.17 %\n"
          ]
        },
        {
          "data": {
            "image/png": "[encoded data removed]",
            "text/plain": [
              "<Figure size 500x300 with 1 Axes>"
            ]
          },
          "metadata": {},
          "output_type": "display_data"
        }
      ],
      "source": [
        "# EDA of VendorID\n",
        "\n",
        "print(\"Percentage of entries from VendorID - 1 (Creative Mobile Technologies. LLC) - \", round(len(df[df['VendorID'] == \"1\"])/len(df) * 100, 2),'%')\n",
        "print(\"Percentage of entries from VendorID - 2 (VeriFone Inc) - \", round(len(df[df['VendorID'] == \"2\"])/len(df) * 100, 2),'%')\n",
        "print(\"Percentage of entries from unknown VendorID - 4 - \", round(len(df[df['VendorID'] == \"4\"])/len(df) * 100, 2),'%')\n",
        "print(\"Percentage of entries from unknown VendorID - 5 - \", round(len(df[df['VendorID'] == \"5\"])/len(df) * 100, 2),'%')\n",
        "print(\"Percentage of entries from unknown VendorID - 6 - \", round(len(df[df['VendorID'] == \"6\"])/len(df) * 100, 2),'%')\n",
        "\n",
        "plt.rcParams[\"figure.figsize\"] = [5.00, 3.00]\n",
        "plt.rcParams[\"figure.autolayout\"] = True\n",
        "ax = sns.countplot(x=\"VendorID\", data=df)\n",
        "for p in ax.patches:\n",
        "   ax.annotate('{:.1f}'.format(p.get_height()), (p.get_x()+0.25, p.get_height()+0.01))"
      ]
    },
    {
      "attachments": {},
      "cell_type": "markdown",
      "metadata": {},
      "source": [
        "Lets check how many records has been recorded per year"
      ]
    },
    {
      "cell_type": "code",
      "execution_count": 122,
      "metadata": {
        "colab": {
          "base_uri": "https://localhost:8080/"
        },
        "id": "CvBYUG-0BsQR",
        "outputId": "5998d502-09f7-4598-aa1c-b04c4675332e"
      },
      "outputs": [
        {
          "name": "stdout",
          "output_type": "stream",
          "text": [
            "Starting date of tpep_pickup_datetime is -  01-01-2018 00:25\n",
            "Ending date of tpep_pickup_datetime is -  31-12-2022 23:37\n",
            "Starting date of tpep_dropoff_datetime is -  01-01-2018 00:38\n",
            "Ending date of tpep_dropoff_datetime is -  31-12-2022 23:52\n"
          ]
        },
        {
          "data": {
            "image/png": "[encoded data removed]",
            "text/plain": [
              "<Figure size 700x300 with 1 Axes>"
            ]
          },
          "metadata": {},
          "output_type": "display_data"
        }
      ],
      "source": [
        "print( \"Starting date of tpep_pickup_datetime is - \", df.tpep_pickup_datetime.min())\n",
        "print( \"Ending date of tpep_pickup_datetime is - \", df.tpep_pickup_datetime.max())\n",
        "\n",
        "print( \"Starting date of tpep_dropoff_datetime is - \", df.tpep_dropoff_datetime.min())\n",
        "print( \"Ending date of tpep_dropoff_datetime is - \", df.tpep_dropoff_datetime.max())\n",
        "\n",
        "# EDA of Year\n",
        "plt.rcParams[\"figure.figsize\"] = [7.00, 3.00]\n",
        "plt.rcParams[\"figure.autolayout\"] = True\n",
        "ax = sns.countplot(x=\"year\", data=df)\n",
        "for p in ax.patches:\n",
        "   ax.annotate('{:.1f}'.format(p.get_height()), (p.get_x()+0.25, p.get_height()+0.01))\n",
        "\n",
        "# Equal number of trips can be seen from 2018 - 2022.\n",
        "# Almost 5 years trip data is present in the dataset. from january 2028 - february 2023"
      ]
    },
    {
      "attachments": {},
      "cell_type": "markdown",
      "metadata": {},
      "source": [
        "Lets check how many passenger_count has been recorded per trip"
      ]
    },
    {
      "cell_type": "code",
      "execution_count": 127,
      "metadata": {
        "colab": {
          "base_uri": "https://localhost:8080/",
          "height": 435
        },
        "id": "0CsaUnJMamML",
        "outputId": "170b820e-6960-42f2-b701-81ccd620eead"
      },
      "outputs": [
        {
          "name": "stdout",
          "output_type": "stream",
          "text": [
            "Percentage of rides with 0 passenger -  1.81 %\n",
            "Percentage of rides with 1 passengers -  70.47 %\n",
            "Percentage of rides with 2 passengers -  14.24 %\n",
            "Percentage of rides with 3 passengers -  3.82 %\n",
            "Percentage of rides with 4 passengers -  1.68 %\n",
            "Percentage of rides with 5 passengers -  2.94 %\n",
            "Percentage of rides with 6 passengers -  1.91 %\n",
            "Percentage of rides with blank passejnger count -  3.12 %\n"
          ]
        },
        {
          "data": {
            "image/png": "[encoded data removed]",
            "text/plain": [
              "<Figure size 500x300 with 1 Axes>"
            ]
          },
          "metadata": {},
          "output_type": "display_data"
        }
      ],
      "source": [
        "# EDA of passenger_count\n",
        "print(\"Percentage of rides with 0 passenger - \", round(len(df[df['passenger_count'] == 0])/len(df) * 100, 2),'%')\n",
        "print(\"Percentage of rides with 1 passengers - \", round(len(df[df['passenger_count'] == 1])/len(df) * 100, 2),'%')\n",
        "print(\"Percentage of rides with 2 passengers - \", round(len(df[df['passenger_count'] == 2])/len(df) * 100, 2),'%')\n",
        "print(\"Percentage of rides with 3 passengers - \", round(len(df[df['passenger_count'] == 3])/len(df) * 100, 2),'%')\n",
        "print(\"Percentage of rides with 4 passengers - \", round(len(df[df['passenger_count'] == 4])/len(df) * 100, 2),'%')\n",
        "print(\"Percentage of rides with 5 passengers - \", round(len(df[df['passenger_count'] == 5])/len(df) * 100, 2),'%')\n",
        "print(\"Percentage of rides with 6 passengers - \", round(len(df[df['passenger_count'] == 6])/len(df) * 100, 2),'%')\n",
        "print(\"Percentage of rides with blank passejnger count - \", round(len(df[df['passenger_count'].isna() == True])/len(df) * 100, 2),'%')\n",
        "\n",
        "plt.rcParams[\"figure.figsize\"] = [5.00, 3.00]\n",
        "plt.rcParams[\"figure.autolayout\"] = True\n",
        "ax = sns.countplot(x=\"passenger_count\", data=df)\n",
        "for p in ax.patches:\n",
        "   ax.annotate('{:.1f}'.format(p.get_height()), (p.get_x()+0.25, p.get_height()+0.01))\n",
        "\n",
        "# 70% of trips are with one passenger and 14.24 % with 2 passengers. 3.12% of trips has blank values in passenger_count   "
      ]
    },
    {
      "attachments": {},
      "cell_type": "markdown",
      "metadata": {},
      "source": [
        "There is a clear trend that most of the time, only 1 passenger is there on trip. we can assume that this trend happens during working hours.we can also clarify that later using trip time"
      ]
    },
    {
      "attachments": {},
      "cell_type": "markdown",
      "metadata": {},
      "source": [
        "Lets check trip_distance that has been recorded per trip"
      ]
    },
    {
      "cell_type": "code",
      "execution_count": 35,
      "metadata": {
        "colab": {
          "base_uri": "https://localhost:8080/",
          "height": 207
        },
        "id": "2UiZnDA3adaR",
        "outputId": "262113b3-d12f-4614-e439-d16a05b2c045"
      },
      "outputs": [
        {
          "data": {
            "image/png": "[encoded data removed]",
            "text/plain": [
              "<Figure size 400x200 with 1 Axes>"
            ]
          },
          "metadata": {},
          "output_type": "display_data"
        }
      ],
      "source": [
        "# Check for outliers in the continuos data - Univariate analysis of \"trip_distance\" variable\n",
        "fig, ax = plt.subplots(figsize=(4, 2)) \n",
        "# drawing the plot\n",
        "sns.boxplot(data=df, x=\"trip_distance\")\n",
        "plt.show()\n",
        "\n",
        "# It is clear that there are some outliers in trip_distance which should be treated. mean trip distance is 4"
      ]
    },
    {
      "attachments": {},
      "cell_type": "markdown",
      "metadata": {},
      "source": [
        "Lets analyze number of trips per rate code"
      ]
    },
    {
      "cell_type": "code",
      "execution_count": 62,
      "metadata": {
        "colab": {
          "base_uri": "https://localhost:8080/",
          "height": 453
        },
        "id": "dq4Vk78KcYak",
        "outputId": "91e7c68e-0c04-4b19-db6c-dae0c1d50e6f"
      },
      "outputs": [
        {
          "name": "stdout",
          "output_type": "stream",
          "text": [
            "Percentage of trips with rate code 1 (Standard rate) -  93.54 %\n",
            "Percentage of trips with rate code 2 (JFK) -  2.42 %\n",
            "Percentage of trips with rate code 3 (Newark) -  0.2 %\n",
            "Percentage of trips with rate code 4 (Nassau or Westchester) -  0.1 %\n",
            "Percentage of trips with rate code 5 (Negotiated fare) -  0.53 %\n",
            "Percentage of trips with rate code 6 (Group ride) -  0.0 %\n",
            "Percentage of trips with rate code 99 (Unknown rate code) -  0.0 %\n",
            "Percentage of trips with rate code blanks -  3.12 %\n"
          ]
        },
        {
          "data": {
            "image/png": "[encoded data removed]",
            "text/plain": [
              "<Figure size 700x300 with 1 Axes>"
            ]
          },
          "metadata": {},
          "output_type": "display_data"
        }
      ],
      "source": [
        "# EDA of RatecodeID\n",
        "print(\"Percentage of trips with rate code 1 (Standard rate) - \", round(len(df[df['RatecodeID'] == \"1.0\"])/len(df) * 100, 2),'%')\n",
        "print(\"Percentage of trips with rate code 2 (JFK) - \", round(len(df[df['RatecodeID'] == \"2.0\"])/len(df) * 100, 2),'%')\n",
        "print(\"Percentage of trips with rate code 3 (Newark) - \", round(len(df[df['RatecodeID'] == \"3.0\"])/len(df) * 100, 2),'%')\n",
        "print(\"Percentage of trips with rate code 4 (Nassau or Westchester) - \", round(len(df[df['RatecodeID'] == \"4.0\"])/len(df) * 100, 2),'%')\n",
        "print(\"Percentage of trips with rate code 5 (Negotiated fare) - \", round(len(df[df['RatecodeID'] == \"5.0\"])/len(df) * 100, 2),'%')\n",
        "print(\"Percentage of trips with rate code 6 (Group ride) - \", round(len(df[df['RatecodeID'] == \"6.0\"])/len(df) * 100, 2),'%')\n",
        "print(\"Percentage of trips with rate code 99 (Unknown rate code) - \", round(len(df[df['RatecodeID'] == \"99\"])/len(df) * 100, 2),'%')\n",
        "print(\"Percentage of trips with rate code blanks - \", round(len(df[df['RatecodeID'] == \"nan\"])/len(df) * 100, 2),'%')\n",
        "\n",
        "plt.rcParams[\"figure.figsize\"] = [7.00, 3.00]\n",
        "plt.rcParams[\"figure.autolayout\"] = True\n",
        "ax = sns.countplot(x=\"RatecodeID\", data=df)\n",
        "for p in ax.patches:\n",
        "   ax.annotate('{:.1f}'.format(p.get_height()), (p.get_x()+0.25, p.get_height()+0.01))\n",
        "\n",
        "# 93.5% of trips are with rate code 1 (Standard rate). only 2.4 % for rate code 2 (JFK) and 3.12% for unknown/blank trips "
      ]
    },
    {
      "attachments": {},
      "cell_type": "markdown",
      "metadata": {},
      "source": [
        "Lets check store_and_fwd_flag that has been recorded per trip"
      ]
    },
    {
      "cell_type": "code",
      "execution_count": 65,
      "metadata": {
        "colab": {
          "base_uri": "https://localhost:8080/",
          "height": 343
        },
        "id": "DApRJ_zmg8MU",
        "outputId": "ce5886af-d64a-4756-b657-3035b5bfe230"
      },
      "outputs": [
        {
          "name": "stdout",
          "output_type": "stream",
          "text": [
            "Percentage of trips with store_and_fwd_flag = Y (store and forward trip) -  1.0 %\n",
            "Percentage of trips with store_and_fwd_flag = N (not a store and forward trip) -  95.88 %\n"
          ]
        },
        {
          "data": {
            "image/png": "[encoded data removed]",
            "text/plain": [
              "<Figure size 700x300 with 1 Axes>"
            ]
          },
          "metadata": {},
          "output_type": "display_data"
        }
      ],
      "source": [
        "# EDA of store_and_fwd_flag\n",
        "print(\"Percentage of trips with store_and_fwd_flag = Y (store and forward trip) - \", round(len(df[df['store_and_fwd_flag'] == \"Y\"])/len(df) * 100, 2),'%')\n",
        "print(\"Percentage of trips with store_and_fwd_flag = N (not a store and forward trip) - \", round(len(df[df['store_and_fwd_flag'] == \"N\"])/len(df) * 100, 2),'%')\n",
        "\n",
        "\n",
        "plt.rcParams[\"figure.figsize\"] = [7.00, 3.00]\n",
        "plt.rcParams[\"figure.autolayout\"] = True\n",
        "ax = sns.countplot(x=\"store_and_fwd_flag\", data=df)\n",
        "for p in ax.patches:\n",
        "   ax.annotate('{:.1f}'.format(p.get_height()), (p.get_x()+0.25, p.get_height()+0.01))\n",
        "\n",
        "# 95.88% of trips are not a store and forward trip. only 1.0 % of trips are store_and_fwd_flag "
      ]
    },
    {
      "cell_type": "code",
      "execution_count": 68,
      "metadata": {
        "colab": {
          "base_uri": "https://localhost:8080/",
          "height": 416
        },
        "id": "iDa5t7D6mXs-",
        "outputId": "23fa4fa5-dc9d-4cd3-a02a-5de4a254d3c8"
      },
      "outputs": [
        {
          "name": "stdout",
          "output_type": "stream",
          "text": [
            "Percentage of trips with payment_type 1 Credit card -  71.04 %\n",
            "Percentage of trips with payment_type 2 Cash -  24.89 %\n",
            "Percentage of trips with payment_type 3 No charge -  0.58 %\n",
            "Percentage of trips with payment_type 4 Dispute -  0.37 %\n",
            "Percentage of trips with payment_type 5 Unknown -  0.0 %\n",
            "Percentage of trips with payment_type 6 Voided trip -  0.0 %\n"
          ]
        },
        {
          "data": {
            "image/png": "[encoded data removed]",
            "text/plain": [
              "<Figure size 700x300 with 1 Axes>"
            ]
          },
          "metadata": {},
          "output_type": "display_data"
        }
      ],
      "source": [
        "# EDA of payment_type\n",
        "print(\"Percentage of trips with payment_type 1 Credit card - \", round(len(df[df['payment_type'] == \"1\"])/len(df) * 100, 2),'%')\n",
        "print(\"Percentage of trips with payment_type 2 Cash - \", round(len(df[df['payment_type'] == \"2\"])/len(df) * 100, 2),'%')\n",
        "print(\"Percentage of trips with payment_type 3 No charge - \", round(len(df[df['payment_type'] == \"3\"])/len(df) * 100, 2),'%')\n",
        "print(\"Percentage of trips with payment_type 4 Dispute - \", round(len(df[df['payment_type'] == \"4\"])/len(df) * 100, 2),'%')\n",
        "print(\"Percentage of trips with payment_type 5 Unknown - \", round(len(df[df['payment_type'] == \"5\"])/len(df) * 100, 2),'%')\n",
        "print(\"Percentage of trips with payment_type 6 Voided trip - \", round(len(df[df['payment_type'] == \"6\"])/len(df) * 100, 2),'%')\n",
        "\n",
        "plt.rcParams[\"figure.figsize\"] = [7.00, 3.00]\n",
        "plt.rcParams[\"figure.autolayout\"] = True\n",
        "ax = sns.countplot(x=\"payment_type\", data=df)\n",
        "for p in ax.patches:\n",
        "   ax.annotate('{:.1f}'.format(p.get_height()), (p.get_x()+0.25, p.get_height()+0.01))\n",
        "\n",
        "# 71.04% of trips are through Credit card payments, followed by Cash with 24.89%. rest of them are very low in numbers"
      ]
    },
    {
      "attachments": {},
      "cell_type": "markdown",
      "metadata": {},
      "source": [
        "There is a clear trend that most of the customers prefer credit card payment ( 71.04 %) followed by cash payment (24.89 %)"
      ]
    },
    {
      "cell_type": "code",
      "execution_count": 69,
      "metadata": {
        "colab": {
          "base_uri": "https://localhost:8080/",
          "height": 207
        },
        "id": "1uIqRoKInScR",
        "outputId": "83699643-5bae-49e0-f857-fa5e5284d7e8"
      },
      "outputs": [
        {
          "data": {
            "image/png": "[encoded data removed]",
            "text/plain": [
              "<Figure size 400x200 with 1 Axes>"
            ]
          },
          "metadata": {},
          "output_type": "display_data"
        }
      ],
      "source": [
        "# Check for outliers in the continuos data - Univariate analysis of \"fare_amount\" variable\n",
        "fig, ax = plt.subplots(figsize=(4, 2)) \n",
        "# drawing the plot\n",
        "sns.boxplot(data=df, x=\"fare_amount\")\n",
        "plt.show()\n",
        "\n",
        "# It is clear that there are many outliers in fare_amount which should be treated. The negative values should be removed. mean fare_amount is 13.51"
      ]
    },
    {
      "cell_type": "code",
      "execution_count": 71,
      "metadata": {
        "colab": {
          "base_uri": "https://localhost:8080/",
          "height": 207
        },
        "id": "gUsY-WkqnwST",
        "outputId": "c5c4210a-b342-4bb1-cc82-ea4221a35249"
      },
      "outputs": [
        {
          "data": {
            "image/png": "[encoded data removed]",
            "text/plain": [
              "<Figure size 400x200 with 1 Axes>"
            ]
          },
          "metadata": {},
          "output_type": "display_data"
        }
      ],
      "source": [
        "# Check for outliers in the continuos data - Univariate analysis of \"extra\" variable\n",
        "fig, ax = plt.subplots(figsize=(4, 2)) \n",
        "# drawing the plot\n",
        "sns.boxplot(data=df, x=\"extra\")\n",
        "plt.show()\n",
        "\n",
        "# It is clear that there are many outliers in extra which should be treated. The negative values should be removed. mean extra is 0.93"
      ]
    },
    {
      "cell_type": "code",
      "execution_count": 11,
      "metadata": {
        "colab": {
          "base_uri": "https://localhost:8080/",
          "height": 244
        },
        "id": "Wa6_Y_WoIdp6",
        "outputId": "822405b8-6e99-44ff-e227-9ec838e32b2c"
      },
      "outputs": [
        {
          "data": {
            "image/png": "[encoded data removed]",
            "text/plain": [
              "<Figure size 400x200 with 1 Axes>"
            ]
          },
          "metadata": {},
          "output_type": "display_data"
        }
      ],
      "source": [
        "# Check for outliers in the continuos data - Univariate analysis of \"mta_tax\" variable\n",
        "fig, ax = plt.subplots(figsize=(4, 2)) \n",
        "# drawing the plot\n",
        "sns.boxplot(data=df, x=\"mta_tax\")\n",
        "plt.show()\n",
        "\n",
        "# It is clear that there are many outliers in mta_tax which should be treated. The negative values should be removed. mean extra is 0.492"
      ]
    },
    {
      "cell_type": "code",
      "execution_count": 12,
      "metadata": {
        "colab": {
          "base_uri": "https://localhost:8080/",
          "height": 171
        },
        "id": "qNtEB3eXdzAW",
        "outputId": "765eca20-686c-4968-f3e0-dbe3b9ec0198"
      },
      "outputs": [
        {
          "data": {
            "image/png": "[encoded data removed]",
            "text/plain": [
              "<Figure size 400x200 with 1 Axes>"
            ]
          },
          "metadata": {},
          "output_type": "display_data"
        }
      ],
      "source": [
        "# Check for outliers in the continuos data - Univariate analysis of \"tip_amount\" variable\n",
        "fig, ax = plt.subplots(figsize=(4, 2)) \n",
        "# drawing the plot\n",
        "sns.boxplot(data=df, x=\"tip_amount\")\n",
        "plt.show()\n",
        "\n",
        "# It is clear that there are many outliers in tip_amount which should be treated. The negative values should be removed. mean tip_amount is 2.22"
      ]
    },
    {
      "cell_type": "code",
      "execution_count": 13,
      "metadata": {},
      "outputs": [
        {
          "data": {
            "image/png": "[encoded data removed]",
            "text/plain": [
              "<Figure size 400x200 with 1 Axes>"
            ]
          },
          "metadata": {},
          "output_type": "display_data"
        }
      ],
      "source": [
        "# Check for outliers in the continuos data - Univariate analysis of \"tolls_amount\" variable\n",
        "fig, ax = plt.subplots(figsize=(4, 2)) \n",
        "# drawing the plot\n",
        "sns.boxplot(data=df, x=\"tolls_amount\")\n",
        "plt.show()\n",
        "\n",
        "# It is clear that there are many outliers in tolls_amount which should be treated. The negative values should be removed. mean tip_amount is 19.05"
      ]
    },
    {
      "cell_type": "code",
      "execution_count": 14,
      "metadata": {},
      "outputs": [
        {
          "data": {
            "image/png": "[encoded data removed]",
            "text/plain": [
              "<Figure size 400x200 with 1 Axes>"
            ]
          },
          "metadata": {},
          "output_type": "display_data"
        }
      ],
      "source": [
        "# Check for outliers in the continuos data - Univariate analysis of \"improvement_surcharge\" variable\n",
        "fig, ax = plt.subplots(figsize=(4, 2)) \n",
        "# drawing the plot\n",
        "sns.boxplot(data=df, x=\"improvement_surcharge\")\n",
        "plt.show()\n",
        "\n",
        "# It is clear that there are many outliers in improvement_surcharge which should be treated. The negative values should be removed. mean tip_amount is 2.24"
      ]
    },
    {
      "cell_type": "code",
      "execution_count": 15,
      "metadata": {},
      "outputs": [
        {
          "data": {
            "image/png": "[encoded data removed]",
            "text/plain": [
              "<Figure size 400x200 with 1 Axes>"
            ]
          },
          "metadata": {},
          "output_type": "display_data"
        }
      ],
      "source": [
        "# Check for outliers in the continuos data - Univariate analysis of \"total_amount\" variable\n",
        "fig, ax = plt.subplots(figsize=(4, 2)) \n",
        "# drawing the plot\n",
        "sns.boxplot(data=df, x=\"total_amount\")\n",
        "plt.show()\n",
        "\n",
        "# It is clear that there are many outliers in tolls_amount which should be treated. The negative values should be removed. mean total_amount is 19.05"
      ]
    },
    {
      "cell_type": "code",
      "execution_count": 16,
      "metadata": {},
      "outputs": [
        {
          "data": {
            "image/png": "[encoded data removed]",
            "text/plain": [
              "<Figure size 400x200 with 1 Axes>"
            ]
          },
          "metadata": {},
          "output_type": "display_data"
        }
      ],
      "source": [
        "# Check for outliers in the continuos data - Univariate analysis of \"congestion_surcharge\" variable\n",
        "fig, ax = plt.subplots(figsize=(4, 2)) \n",
        "# drawing the plot\n",
        "sns.boxplot(data=df, x=\"congestion_surcharge\")\n",
        "plt.show()\n",
        "\n",
        "# It is clear that there are many outliers in congestion_surcharge which should be treated. The negative values should be removed. mean congestion_surcharge is 2.24"
      ]
    },
    {
      "cell_type": "code",
      "execution_count": 17,
      "metadata": {},
      "outputs": [
        {
          "data": {
            "image/png": "[encoded data removed]",
            "text/plain": [
              "<Figure size 400x200 with 1 Axes>"
            ]
          },
          "metadata": {},
          "output_type": "display_data"
        }
      ],
      "source": [
        "# Check for outliers in the continuos data - Univariate analysis of \"airport_fee\" variable\n",
        "fig, ax = plt.subplots(figsize=(4, 2)) \n",
        "# drawing the plot\n",
        "sns.boxplot(data=df, x=\"airport_fee\")\n",
        "plt.show()\n",
        "\n",
        "# It is clear that there are many outliers in airport_fee which should be treated. The negative values should be removed. mean airport_fee is 0.085"
      ]
    },
    {
      "attachments": {},
      "cell_type": "markdown",
      "metadata": {},
      "source": [
        "Feature engineering\n"
      ]
    },
    {
      "cell_type": "code",
      "execution_count": 62,
      "metadata": {},
      "outputs": [
        {
          "data": {
            "text/html": [
              "<div>\n",
              "<style scoped>\n",
              "    .dataframe tbody tr th:only-of-type {\n",
              "        vertical-align: middle;\n",
              "    }\n",
              "\n",
              "    .dataframe tbody tr th {\n",
              "        vertical-align: top;\n",
              "    }\n",
              "\n",
              "    .dataframe thead th {\n",
              "        text-align: right;\n",
              "    }\n",
              "</style>\n",
              "<table border=\"1\" class=\"dataframe\">\n",
              "  <thead>\n",
              "    <tr style=\"text-align: right;\">\n",
              "      <th></th>\n",
              "      <th>VendorID</th>\n",
              "      <th>tpep_pickup_datetime</th>\n",
              "      <th>tpep_dropoff_datetime</th>\n",
              "      <th>passenger_count</th>\n",
              "      <th>trip_distance</th>\n",
              "      <th>RatecodeID</th>\n",
              "      <th>store_and_fwd_flag</th>\n",
              "      <th>PULocationID</th>\n",
              "      <th>DOLocationID</th>\n",
              "      <th>payment_type</th>\n",
              "      <th>...</th>\n",
              "      <th>congestion_surcharge</th>\n",
              "      <th>airport_fee</th>\n",
              "      <th>LocationID_x</th>\n",
              "      <th>PUBorough</th>\n",
              "      <th>PUZone</th>\n",
              "      <th>PUservice_zone</th>\n",
              "      <th>LocationID_y</th>\n",
              "      <th>DOBorough</th>\n",
              "      <th>DOZone</th>\n",
              "      <th>DOservice_zone</th>\n",
              "    </tr>\n",
              "  </thead>\n",
              "  <tbody>\n",
              "    <tr>\n",
              "      <th>0</th>\n",
              "      <td>2</td>\n",
              "      <td>01-01-2018 12:02</td>\n",
              "      <td>01-01-2018 12:04</td>\n",
              "      <td>1.0</td>\n",
              "      <td>0.53</td>\n",
              "      <td>1.0</td>\n",
              "      <td>N</td>\n",
              "      <td>142</td>\n",
              "      <td>163</td>\n",
              "      <td>1</td>\n",
              "      <td>...</td>\n",
              "      <td>NaN</td>\n",
              "      <td>NaN</td>\n",
              "      <td>142</td>\n",
              "      <td>Manhattan</td>\n",
              "      <td>Lincoln Square East</td>\n",
              "      <td>Yellow Zone</td>\n",
              "      <td>163</td>\n",
              "      <td>Manhattan</td>\n",
              "      <td>Midtown North</td>\n",
              "      <td>Yellow Zone</td>\n",
              "    </tr>\n",
              "    <tr>\n",
              "      <th>1</th>\n",
              "      <td>2</td>\n",
              "      <td>01-01-2018 12:26</td>\n",
              "      <td>01-01-2018 12:31</td>\n",
              "      <td>1.0</td>\n",
              "      <td>1.05</td>\n",
              "      <td>1.0</td>\n",
              "      <td>N</td>\n",
              "      <td>140</td>\n",
              "      <td>236</td>\n",
              "      <td>1</td>\n",
              "      <td>...</td>\n",
              "      <td>NaN</td>\n",
              "      <td>NaN</td>\n",
              "      <td>140</td>\n",
              "      <td>Manhattan</td>\n",
              "      <td>Lenox Hill East</td>\n",
              "      <td>Yellow Zone</td>\n",
              "      <td>236</td>\n",
              "      <td>Manhattan</td>\n",
              "      <td>Upper East Side North</td>\n",
              "      <td>Yellow Zone</td>\n",
              "    </tr>\n",
              "    <tr>\n",
              "      <th>2</th>\n",
              "      <td>2</td>\n",
              "      <td>01-01-2018 01:28</td>\n",
              "      <td>01-01-2018 01:39</td>\n",
              "      <td>4.0</td>\n",
              "      <td>1.83</td>\n",
              "      <td>1.0</td>\n",
              "      <td>N</td>\n",
              "      <td>211</td>\n",
              "      <td>158</td>\n",
              "      <td>1</td>\n",
              "      <td>...</td>\n",
              "      <td>NaN</td>\n",
              "      <td>NaN</td>\n",
              "      <td>211</td>\n",
              "      <td>Manhattan</td>\n",
              "      <td>SoHo</td>\n",
              "      <td>Yellow Zone</td>\n",
              "      <td>158</td>\n",
              "      <td>Manhattan</td>\n",
              "      <td>Meatpacking/West Village West</td>\n",
              "      <td>Yellow Zone</td>\n",
              "    </tr>\n",
              "    <tr>\n",
              "      <th>3</th>\n",
              "      <td>1</td>\n",
              "      <td>01-01-2018 08:51</td>\n",
              "      <td>01-01-2018 09:01</td>\n",
              "      <td>1.0</td>\n",
              "      <td>2.30</td>\n",
              "      <td>1.0</td>\n",
              "      <td>N</td>\n",
              "      <td>249</td>\n",
              "      <td>4</td>\n",
              "      <td>2</td>\n",
              "      <td>...</td>\n",
              "      <td>NaN</td>\n",
              "      <td>NaN</td>\n",
              "      <td>249</td>\n",
              "      <td>Manhattan</td>\n",
              "      <td>West Village</td>\n",
              "      <td>Yellow Zone</td>\n",
              "      <td>4</td>\n",
              "      <td>Manhattan</td>\n",
              "      <td>Alphabet City</td>\n",
              "      <td>Yellow Zone</td>\n",
              "    </tr>\n",
              "    <tr>\n",
              "      <th>4</th>\n",
              "      <td>2</td>\n",
              "      <td>01-01-2018 01:00</td>\n",
              "      <td>01-01-2018 01:14</td>\n",
              "      <td>1.0</td>\n",
              "      <td>3.06</td>\n",
              "      <td>1.0</td>\n",
              "      <td>N</td>\n",
              "      <td>186</td>\n",
              "      <td>142</td>\n",
              "      <td>1</td>\n",
              "      <td>...</td>\n",
              "      <td>NaN</td>\n",
              "      <td>NaN</td>\n",
              "      <td>186</td>\n",
              "      <td>Manhattan</td>\n",
              "      <td>Penn Station/Madison Sq West</td>\n",
              "      <td>Yellow Zone</td>\n",
              "      <td>142</td>\n",
              "      <td>Manhattan</td>\n",
              "      <td>Lincoln Square East</td>\n",
              "      <td>Yellow Zone</td>\n",
              "    </tr>\n",
              "    <tr>\n",
              "      <th>...</th>\n",
              "      <td>...</td>\n",
              "      <td>...</td>\n",
              "      <td>...</td>\n",
              "      <td>...</td>\n",
              "      <td>...</td>\n",
              "      <td>...</td>\n",
              "      <td>...</td>\n",
              "      <td>...</td>\n",
              "      <td>...</td>\n",
              "      <td>...</td>\n",
              "      <td>...</td>\n",
              "      <td>...</td>\n",
              "      <td>...</td>\n",
              "      <td>...</td>\n",
              "      <td>...</td>\n",
              "      <td>...</td>\n",
              "      <td>...</td>\n",
              "      <td>...</td>\n",
              "      <td>...</td>\n",
              "      <td>...</td>\n",
              "      <td>...</td>\n",
              "    </tr>\n",
              "    <tr>\n",
              "      <th>304973</th>\n",
              "      <td>1</td>\n",
              "      <td>31-01-2023 00:11</td>\n",
              "      <td>31-01-2023 00:38</td>\n",
              "      <td>1.0</td>\n",
              "      <td>9.90</td>\n",
              "      <td>99.0</td>\n",
              "      <td>N</td>\n",
              "      <td>48</td>\n",
              "      <td>47</td>\n",
              "      <td>1</td>\n",
              "      <td>...</td>\n",
              "      <td>0.0</td>\n",
              "      <td>0.0</td>\n",
              "      <td>48</td>\n",
              "      <td>Manhattan</td>\n",
              "      <td>Clinton East</td>\n",
              "      <td>Yellow Zone</td>\n",
              "      <td>47</td>\n",
              "      <td>Bronx</td>\n",
              "      <td>Claremont/Bathgate</td>\n",
              "      <td>Boro Zone</td>\n",
              "    </tr>\n",
              "    <tr>\n",
              "      <th>304974</th>\n",
              "      <td>2</td>\n",
              "      <td>31-01-2023 16:06</td>\n",
              "      <td>31-01-2023 16:52</td>\n",
              "      <td>1.0</td>\n",
              "      <td>8.27</td>\n",
              "      <td>1.0</td>\n",
              "      <td>N</td>\n",
              "      <td>87</td>\n",
              "      <td>75</td>\n",
              "      <td>2</td>\n",
              "      <td>...</td>\n",
              "      <td>2.5</td>\n",
              "      <td>0.0</td>\n",
              "      <td>87</td>\n",
              "      <td>Manhattan</td>\n",
              "      <td>Financial District North</td>\n",
              "      <td>Yellow Zone</td>\n",
              "      <td>75</td>\n",
              "      <td>Manhattan</td>\n",
              "      <td>East Harlem South</td>\n",
              "      <td>Boro Zone</td>\n",
              "    </tr>\n",
              "    <tr>\n",
              "      <th>304975</th>\n",
              "      <td>2</td>\n",
              "      <td>31-01-2023 15:31</td>\n",
              "      <td>31-01-2023 15:44</td>\n",
              "      <td>1.0</td>\n",
              "      <td>0.71</td>\n",
              "      <td>1.0</td>\n",
              "      <td>N</td>\n",
              "      <td>236</td>\n",
              "      <td>236</td>\n",
              "      <td>2</td>\n",
              "      <td>...</td>\n",
              "      <td>2.5</td>\n",
              "      <td>0.0</td>\n",
              "      <td>236</td>\n",
              "      <td>Manhattan</td>\n",
              "      <td>Upper East Side North</td>\n",
              "      <td>Yellow Zone</td>\n",
              "      <td>236</td>\n",
              "      <td>Manhattan</td>\n",
              "      <td>Upper East Side North</td>\n",
              "      <td>Yellow Zone</td>\n",
              "    </tr>\n",
              "    <tr>\n",
              "      <th>304976</th>\n",
              "      <td>1</td>\n",
              "      <td>31-01-2023 20:35</td>\n",
              "      <td>31-01-2023 20:42</td>\n",
              "      <td>1.0</td>\n",
              "      <td>1.80</td>\n",
              "      <td>1.0</td>\n",
              "      <td>N</td>\n",
              "      <td>141</td>\n",
              "      <td>170</td>\n",
              "      <td>2</td>\n",
              "      <td>...</td>\n",
              "      <td>2.5</td>\n",
              "      <td>0.0</td>\n",
              "      <td>141</td>\n",
              "      <td>Manhattan</td>\n",
              "      <td>Lenox Hill West</td>\n",
              "      <td>Yellow Zone</td>\n",
              "      <td>170</td>\n",
              "      <td>Manhattan</td>\n",
              "      <td>Murray Hill</td>\n",
              "      <td>Yellow Zone</td>\n",
              "    </tr>\n",
              "    <tr>\n",
              "      <th>304977</th>\n",
              "      <td>1</td>\n",
              "      <td>31-01-2023 08:57</td>\n",
              "      <td>31-01-2023 09:25</td>\n",
              "      <td>1.0</td>\n",
              "      <td>6.70</td>\n",
              "      <td>1.0</td>\n",
              "      <td>N</td>\n",
              "      <td>236</td>\n",
              "      <td>114</td>\n",
              "      <td>1</td>\n",
              "      <td>...</td>\n",
              "      <td>2.5</td>\n",
              "      <td>0.0</td>\n",
              "      <td>236</td>\n",
              "      <td>Manhattan</td>\n",
              "      <td>Upper East Side North</td>\n",
              "      <td>Yellow Zone</td>\n",
              "      <td>114</td>\n",
              "      <td>Manhattan</td>\n",
              "      <td>Greenwich Village South</td>\n",
              "      <td>Yellow Zone</td>\n",
              "    </tr>\n",
              "  </tbody>\n",
              "</table>\n",
              "<p>304978 rows × 27 columns</p>\n",
              "</div>"
            ],
            "text/plain": [
              "       VendorID tpep_pickup_datetime tpep_dropoff_datetime  passenger_count   \n",
              "0             2     01-01-2018 12:02      01-01-2018 12:04              1.0  \\\n",
              "1             2     01-01-2018 12:26      01-01-2018 12:31              1.0   \n",
              "2             2     01-01-2018 01:28      01-01-2018 01:39              4.0   \n",
              "3             1     01-01-2018 08:51      01-01-2018 09:01              1.0   \n",
              "4             2     01-01-2018 01:00      01-01-2018 01:14              1.0   \n",
              "...         ...                  ...                   ...              ...   \n",
              "304973        1     31-01-2023 00:11      31-01-2023 00:38              1.0   \n",
              "304974        2     31-01-2023 16:06      31-01-2023 16:52              1.0   \n",
              "304975        2     31-01-2023 15:31      31-01-2023 15:44              1.0   \n",
              "304976        1     31-01-2023 20:35      31-01-2023 20:42              1.0   \n",
              "304977        1     31-01-2023 08:57      31-01-2023 09:25              1.0   \n",
              "\n",
              "        trip_distance RatecodeID store_and_fwd_flag  PULocationID   \n",
              "0                0.53        1.0                  N           142  \\\n",
              "1                1.05        1.0                  N           140   \n",
              "2                1.83        1.0                  N           211   \n",
              "3                2.30        1.0                  N           249   \n",
              "4                3.06        1.0                  N           186   \n",
              "...               ...        ...                ...           ...   \n",
              "304973           9.90       99.0                  N            48   \n",
              "304974           8.27        1.0                  N            87   \n",
              "304975           0.71        1.0                  N           236   \n",
              "304976           1.80        1.0                  N           141   \n",
              "304977           6.70        1.0                  N           236   \n",
              "\n",
              "        DOLocationID payment_type  ...  congestion_surcharge  airport_fee   \n",
              "0                163            1  ...                   NaN          NaN  \\\n",
              "1                236            1  ...                   NaN          NaN   \n",
              "2                158            1  ...                   NaN          NaN   \n",
              "3                  4            2  ...                   NaN          NaN   \n",
              "4                142            1  ...                   NaN          NaN   \n",
              "...              ...          ...  ...                   ...          ...   \n",
              "304973            47            1  ...                   0.0          0.0   \n",
              "304974            75            2  ...                   2.5          0.0   \n",
              "304975           236            2  ...                   2.5          0.0   \n",
              "304976           170            2  ...                   2.5          0.0   \n",
              "304977           114            1  ...                   2.5          0.0   \n",
              "\n",
              "        LocationID_x  PUBorough                        PUZone  PUservice_zone   \n",
              "0                142  Manhattan           Lincoln Square East     Yellow Zone  \\\n",
              "1                140  Manhattan               Lenox Hill East     Yellow Zone   \n",
              "2                211  Manhattan                          SoHo     Yellow Zone   \n",
              "3                249  Manhattan                  West Village     Yellow Zone   \n",
              "4                186  Manhattan  Penn Station/Madison Sq West     Yellow Zone   \n",
              "...              ...        ...                           ...             ...   \n",
              "304973            48  Manhattan                  Clinton East     Yellow Zone   \n",
              "304974            87  Manhattan      Financial District North     Yellow Zone   \n",
              "304975           236  Manhattan         Upper East Side North     Yellow Zone   \n",
              "304976           141  Manhattan               Lenox Hill West     Yellow Zone   \n",
              "304977           236  Manhattan         Upper East Side North     Yellow Zone   \n",
              "\n",
              "        LocationID_y  DOBorough                         DOZone  DOservice_zone  \n",
              "0                163  Manhattan                  Midtown North     Yellow Zone  \n",
              "1                236  Manhattan          Upper East Side North     Yellow Zone  \n",
              "2                158  Manhattan  Meatpacking/West Village West     Yellow Zone  \n",
              "3                  4  Manhattan                  Alphabet City     Yellow Zone  \n",
              "4                142  Manhattan            Lincoln Square East     Yellow Zone  \n",
              "...              ...        ...                            ...             ...  \n",
              "304973            47      Bronx             Claremont/Bathgate       Boro Zone  \n",
              "304974            75  Manhattan              East Harlem South       Boro Zone  \n",
              "304975           236  Manhattan          Upper East Side North     Yellow Zone  \n",
              "304976           170  Manhattan                    Murray Hill     Yellow Zone  \n",
              "304977           114  Manhattan        Greenwich Village South     Yellow Zone  \n",
              "\n",
              "[304978 rows x 27 columns]"
            ]
          },
          "execution_count": 62,
          "metadata": {},
          "output_type": "execute_result"
        }
      ],
      "source": [
        "# Read taxi zone data\n",
        "\n",
        "df_Zone = pd.read_csv(\"C:/Users/Sanjay/Desktop/Sachin/CV/Lynx/NYC_TLC_Yellow_Taxi_Data-main/taxi+_zone_lookup.csv\")\n",
        "\n",
        "# Merge the pick up and drop off location from zone table to main table\n",
        "df3 = pd.merge(df, df_Zone, left_on=['PULocationID'],right_on=['LocationID'], how='left')\n",
        "df3.rename(columns = {'Borough':'PUBorough'}, inplace = True)\n",
        "df3.rename(columns = {'Zone':'PUZone'}, inplace = True)\n",
        "df3.rename(columns = {'service_zone':'PUservice_zone'}, inplace = True)\n",
        "\n",
        "df3 = pd.merge(df3, df_Zone, left_on=['DOLocationID'],right_on=['LocationID'], how='left')\n",
        "df3.rename(columns = {'Borough':'DOBorough'}, inplace = True)\n",
        "df3.rename(columns = {'Zone':'DOZone'}, inplace = True)\n",
        "df3.rename(columns = {'service_zone':'DOservice_zone'}, inplace = True)\n",
        "df3\n",
        "\n",
        "df = df3.copy()\n",
        "df"
      ]
    },
    {
      "cell_type": "code",
      "execution_count": 50,
      "metadata": {},
      "outputs": [
        {
          "name": "stdout",
          "output_type": "stream",
          "text": [
            "Percentage of pick ups from Manhattan -  90.03 %\n",
            "Percentage of pick ups from Queens -  6.86 %\n",
            "Percentage of pick ups from Brooklyn -  1.38 %\n"
          ]
        },
        {
          "data": {
            "image/png": "[encoded data removed]",
            "text/plain": [
              "<Figure size 700x300 with 1 Axes>"
            ]
          },
          "metadata": {},
          "output_type": "display_data"
        }
      ],
      "source": [
        "# EDA of payment_type\n",
        "print(\"Percentage of pick ups from Manhattan - \", round(len(df[df['PUBorough'] == \"Manhattan\"])/len(df) * 100, 2),'%')\n",
        "print(\"Percentage of pick ups from Queens - \", round(len(df[df['PUBorough'] == \"Queens\"])/len(df) * 100, 2),'%')\n",
        "print(\"Percentage of pick ups from Brooklyn - \", round(len(df[df['PUBorough'] == \"Brooklyn\"])/len(df) * 100, 2),'%')\n",
        "\n",
        "plt.rcParams[\"figure.figsize\"] = [7.00, 3.00]\n",
        "plt.rcParams[\"figure.autolayout\"] = True\n",
        "ax = sns.countplot(x=\"PUBorough\", data=df)\n",
        "for p in ax.patches:\n",
        "   ax.annotate('{:.1f}'.format(p.get_height()), (p.get_x()+0.25, p.get_height()+0.01))\n",
        "\n",
        "# 90.03% of trip bookings are from Manhattan"
      ]
    },
    {
      "cell_type": "code",
      "execution_count": 51,
      "metadata": {},
      "outputs": [
        {
          "name": "stdout",
          "output_type": "stream",
          "text": [
            "Percentage of drop offs from Manhattan -  87.98 %\n",
            "Percentage of drop offs from Queens -  5.11 %\n",
            "Percentage of drop offs from Brooklyn -  4.4 %\n"
          ]
        },
        {
          "data": {
            "image/png": "[encoded data removed]",
            "text/plain": [
              "<Figure size 700x300 with 1 Axes>"
            ]
          },
          "metadata": {},
          "output_type": "display_data"
        }
      ],
      "source": [
        "# EDA of payment_type\n",
        "print(\"Percentage of drop offs from Manhattan - \", round(len(df[df['DOBorough'] == \"Manhattan\"])/len(df) * 100, 2),'%')\n",
        "print(\"Percentage of drop offs from Queens - \", round(len(df[df['DOBorough'] == \"Queens\"])/len(df) * 100, 2),'%')\n",
        "print(\"Percentage of drop offs from Brooklyn - \", round(len(df[df['DOBorough'] == \"Brooklyn\"])/len(df) * 100, 2),'%')\n",
        "\n",
        "plt.rcParams[\"figure.figsize\"] = [7.00, 3.00]\n",
        "plt.rcParams[\"figure.autolayout\"] = True\n",
        "ax = sns.countplot(x=\"DOBorough\", data=df)\n",
        "for p in ax.patches:\n",
        "   ax.annotate('{:.1f}'.format(p.get_height()), (p.get_x()+0.25, p.get_height()+0.01))\n",
        "\n",
        "# 90.03% of trip bookings are to Manhattan area itself"
      ]
    },
    {
      "attachments": {},
      "cell_type": "markdown",
      "metadata": {},
      "source": [
        "It is clear that manhattan is the main area/zone at which most of the taxi services are occuring."
      ]
    },
    {
      "cell_type": "code",
      "execution_count": 57,
      "metadata": {},
      "outputs": [
        {
          "name": "stdout",
          "output_type": "stream",
          "text": [
            "Percentage of pick ups from Yellow Zone -  86.67 %\n",
            "Percentage of pick ups from Boro Zone -  6.58 %\n",
            "Percentage of pick ups from Airports -  5.48 %\n",
            "Percentage of pick ups from EWR -  0.01 %\n"
          ]
        },
        {
          "data": {
            "image/png": "[encoded data removed]",
            "text/plain": [
              "<Figure size 700x300 with 1 Axes>"
            ]
          },
          "metadata": {},
          "output_type": "display_data"
        }
      ],
      "source": [
        "# EDA of pick up service_zone\n",
        "print(\"Percentage of pick ups from Yellow Zone - \", round(len(df[df['PUservice_zone'] == \"Yellow Zone\"])/len(df) * 100, 2),'%')\n",
        "print(\"Percentage of pick ups from Boro Zone - \", round(len(df[df['PUservice_zone'] == \"Boro Zone\"])/len(df) * 100, 2),'%')\n",
        "print(\"Percentage of pick ups from Airports - \", round(len(df[df['PUservice_zone'] == \"Airports\"])/len(df) * 100, 2),'%')\n",
        "print(\"Percentage of pick ups from EWR - \", round(len(df[df['PUservice_zone'] == \"EWR\"])/len(df) * 100, 2),'%')\n",
        "\n",
        "plt.rcParams[\"figure.figsize\"] = [7.00, 3.00]\n",
        "plt.rcParams[\"figure.autolayout\"] = True\n",
        "ax = sns.countplot(x=\"PUservice_zone\", data=df)\n",
        "for p in ax.patches:\n",
        "   ax.annotate('{:.1f}'.format(p.get_height()), (p.get_x()+0.25, p.get_height()+0.01))\n",
        "\n",
        "# 86.67% of trip bookings are from Yellow Zone, followed by Boro Zone (6.58%) and Airports (5.48%)"
      ]
    },
    {
      "cell_type": "code",
      "execution_count": 58,
      "metadata": {},
      "outputs": [
        {
          "name": "stdout",
          "output_type": "stream",
          "text": [
            "Percentage of drop off to Yellow Zone -  81.81 %\n",
            "Percentage of drop off to Boro Zone -  15.09 %\n",
            "Percentage of drop off to Airports -  1.76 %\n",
            "Percentage of drop off to EWR -  0.19 %\n"
          ]
        },
        {
          "data": {
            "image/png": "[encoded data removed]",
            "text/plain": [
              "<Figure size 700x300 with 1 Axes>"
            ]
          },
          "metadata": {},
          "output_type": "display_data"
        }
      ],
      "source": [
        "# EDA of Drop off service_zone\n",
        "print(\"Percentage of drop off to Yellow Zone - \", round(len(df[df['DOservice_zone'] == \"Yellow Zone\"])/len(df) * 100, 2),'%')\n",
        "print(\"Percentage of drop off to Boro Zone - \", round(len(df[df['DOservice_zone'] == \"Boro Zone\"])/len(df) * 100, 2),'%')\n",
        "print(\"Percentage of drop off to Airports - \", round(len(df[df['DOservice_zone'] == \"Airports\"])/len(df) * 100, 2),'%')\n",
        "print(\"Percentage of drop off to EWR - \", round(len(df[df['DOservice_zone'] == \"EWR\"])/len(df) * 100, 2),'%')\n",
        "\n",
        "plt.rcParams[\"figure.figsize\"] = [7.00, 3.00]\n",
        "plt.rcParams[\"figure.autolayout\"] = True\n",
        "ax = sns.countplot(x=\"DOservice_zone\", data=df)\n",
        "for p in ax.patches:\n",
        "   ax.annotate('{:.1f}'.format(p.get_height()), (p.get_x()+0.25, p.get_height()+0.01))\n",
        "\n",
        "# 81.81% of trip bookings are from Yellow Zone, followed by Boro Zone (15.09%) and Airports (1.76%)"
      ]
    },
    {
      "attachments": {},
      "cell_type": "markdown",
      "metadata": {},
      "source": [
        "From the analysis , it is clear that there are many missing and incorrect information in the data, which we need to find the reason and solution for those errors.\n",
        "It seems that some of the trips contains passenger count zero and blanks. \n",
        "When looked for observations with blank 'passenger count', their RatecodeID, store_and_fwd_flag, payment_type are also blanks, which leads us to an assumption that those are cancelled trips\n",
        "where as the passenger count zero can be considered as incorrect entry by the driver.\n",
        "\n",
        "There is a clear trend that most of the trips happens on Yellow zone and especially manhattan area"
      ]
    },
    {
      "cell_type": "code",
      "execution_count": 67,
      "metadata": {},
      "outputs": [
        {
          "name": "stdout",
          "output_type": "stream",
          "text": [
            "Number of entries from VendorID - 1 (Creative Mobile Technologies. LLC) -  102886\n",
            "Number of entries from VendorID - 2 (VeriFone Inc) -  201068\n",
            "VendorID\n",
            "1    5518\n",
            "2      17\n",
            "Name: VendorID, dtype: int64\n"
          ]
        }
      ],
      "source": [
        "# Find the number of trips with passenger count less than or equal to zero\n",
        "\n",
        "print(\"Number of entries from VendorID - 1 (Creative Mobile Technologies. LLC) - \", len(df[df['VendorID'] == \"1\"]))\n",
        "print(\"Number of entries from VendorID - 2 (VeriFone Inc) - \", (len(df[df['VendorID'] == \"2\"])))\n",
        "print(df[df['passenger_count'] <= 0].groupby(['VendorID'])['VendorID'].count())\n",
        "\n",
        "# This indicates that out of 102886 trips by VendorID - 1 (Creative Mobile Technologies. LLC), 5518 trips had zero  passengers and \n",
        "# out of 102886 trips by VendorID - 2 (VeriFone Inc), 17 trips had zero passengers and "
      ]
    },
    {
      "cell_type": "code",
      "execution_count": 69,
      "metadata": {},
      "outputs": [
        {
          "name": "stdout",
          "output_type": "stream",
          "text": [
            "Number of entries from VendorID - 1 (Creative Mobile Technologies. LLC) -  102886\n",
            "Number of entries from VendorID - 2 (VeriFone Inc) -  201068\n",
            "Number of entries from unknown vendor 5 -  3\n",
            "Number of entries from unknown vendor 6 -  521\n",
            "VendorID\n",
            "1    1261\n",
            "2    7728\n",
            "5       3\n",
            "6     521\n",
            "Name: VendorID, dtype: int64\n"
          ]
        }
      ],
      "source": [
        "# Find the number of trips with passenger count less than or equal to zero\n",
        "\n",
        "print(\"Number of entries from VendorID - 1 (Creative Mobile Technologies. LLC) - \", len(df[df['VendorID'] == \"1\"]))\n",
        "print(\"Number of entries from VendorID - 2 (VeriFone Inc) - \", (len(df[df['VendorID'] == \"2\"])))\n",
        "print(\"Number of entries from unknown vendor 5 - \", (len(df[df['VendorID'] == \"5\"])))\n",
        "print(\"Number of entries from unknown vendor 6 - \", (len(df[df['VendorID'] == \"6\"])))\n",
        "\n",
        "print(df[df['passenger_count'].isna() == True].groupby(['VendorID'])['VendorID'].count())\n",
        "\n",
        "# This indicates that out of 102886 trips by VendorID - 1 (Creative Mobile Technologies. LLC), 1261 trips has blank passenger count \n",
        "# Out of 7728 trips by VendorID - 2 (VeriFone Inc), 7728 trips has blank passenger count\n",
        "# Out of 3 trips by unknown vendor 5, 3 trips has blank passenger count\n",
        "# Out of 521 trips by unknown vendor 6, 521 trips has blank passenger count"
      ]
    },
    {
      "attachments": {},
      "cell_type": "markdown",
      "metadata": {},
      "source": [
        "From the above analysis, it is clear that vendor 5 and 6 data is incorrect & cannot used for further analysis.\n",
        "3% of data provided by VendorID - 2 contains blank passenger count (7728/201068 * 100 = 3 %)\n",
        "5.36% ofdata provided by VendorID - 2 contains 1 passenger count (5518/102886 * 100 = 5.36 %)"
      ]
    },
    {
      "attachments": {},
      "cell_type": "markdown",
      "metadata": {},
      "source": [
        "Extract year and month from tpep_pickup_datetime to identify the year and month with most number of trips"
      ]
    },
    {
      "cell_type": "code",
      "execution_count": 130,
      "metadata": {},
      "outputs": [],
      "source": [
        "\n",
        "for index, row in df.iterrows():\n",
        "  datetimeobj=datetime.strptime(row['tpep_pickup_datetime'], \"%d-%m-%Y %H:%M\")\n",
        "  df.at[index, 'year'] = datetimeobj.year\n",
        "  df.at[index, 'month'] = datetimeobj.month\n",
        "  df.at[index, 'hour'] = datetimeobj.hour\n"
      ]
    },
    {
      "cell_type": "code",
      "execution_count": 78,
      "metadata": {},
      "outputs": [
        {
          "data": {
            "image/png": "[encoded data removed]",
            "text/plain": [
              "<Figure size 1000x300 with 1 Axes>"
            ]
          },
          "metadata": {},
          "output_type": "display_data"
        }
      ],
      "source": [
        "# EDA of months\n",
        "plt.rcParams[\"figure.figsize\"] = [10.00, 3.00]\n",
        "plt.rcParams[\"figure.autolayout\"] = True\n",
        "ax = sns.countplot(x=\"month\", data=df)\n",
        "for p in ax.patches:\n",
        "   ax.annotate('{:.1f}'.format(p.get_height()), (p.get_x()+0.25, p.get_height()+0.01))\n",
        "\n",
        "# january has more trips compared to any other month and february has the least"
      ]
    },
    {
      "cell_type": "code",
      "execution_count": 80,
      "metadata": {},
      "outputs": [
        {
          "data": {
            "image/png": "[encoded data removed]",
            "text/plain": [
              "<Figure size 700x300 with 1 Axes>"
            ]
          },
          "metadata": {},
          "output_type": "display_data"
        }
      ],
      "source": [
        "# EDA of 2018 year\n",
        "plt.rcParams[\"figure.figsize\"] = [7.00, 3.00]\n",
        "plt.rcParams[\"figure.autolayout\"] = True\n",
        "ax = sns.countplot(x=\"month\", data=df[df['year'] == 2018])\n",
        "for p in ax.patches:\n",
        "    ax.annotate('{:.1f}'.format(p.get_height()), (p.get_x()+0.25, p.get_height()+0.01))\n",
        "\n",
        "# 2018 shows a similiar pattern of the overall trip count "
      ]
    },
    {
      "cell_type": "code",
      "execution_count": 121,
      "metadata": {},
      "outputs": [
        {
          "data": {
            "image/png": "[encoded data removed]",
            "text/plain": [
              "<Figure size 700x300 with 1 Axes>"
            ]
          },
          "metadata": {},
          "output_type": "display_data"
        }
      ],
      "source": [
        "# EDA of 2019 year\n",
        "plt.rcParams[\"figure.figsize\"] = [7.00, 3.00]\n",
        "plt.rcParams[\"figure.autolayout\"] = True\n",
        "ax = sns.countplot(x=\"month\", data=df[df['year'] == 2019])\n",
        "for p in ax.patches:\n",
        "    ax.annotate('{:.1f}'.format(p.get_height()), (p.get_x()+0.25, p.get_height()+0.01))\n",
        "\n",
        "# 2019 shows a similiar pattern of the overall trip count "
      ]
    },
    {
      "cell_type": "code",
      "execution_count": 120,
      "metadata": {},
      "outputs": [
        {
          "data": {
            "image/png": "[encoded data removed]",
            "text/plain": [
              "<Figure size 700x300 with 1 Axes>"
            ]
          },
          "metadata": {},
          "output_type": "display_data"
        }
      ],
      "source": [
        "# EDA of 2020 year\n",
        "plt.rcParams[\"figure.figsize\"] = [7.00, 3.00]\n",
        "plt.rcParams[\"figure.autolayout\"] = True\n",
        "ax = sns.countplot(x=\"month\", data=df[df['year'] == 2020])\n",
        "for p in ax.patches:\n",
        "    ax.annotate('{:.1f}'.format(p.get_height()), (p.get_x()+0.25, p.get_height()+0.01))\n",
        "\n",
        "# in 2020 march had very low number of trips compared to any other months."
      ]
    },
    {
      "cell_type": "code",
      "execution_count": 119,
      "metadata": {},
      "outputs": [
        {
          "data": {
            "image/png": "[encoded data removed]",
            "text/plain": [
              "<Figure size 700x300 with 1 Axes>"
            ]
          },
          "metadata": {},
          "output_type": "display_data"
        }
      ],
      "source": [
        "# EDA of 2021 year\n",
        "plt.rcParams[\"figure.figsize\"] = [7.00, 3.00]\n",
        "plt.rcParams[\"figure.autolayout\"] = True\n",
        "ax = sns.countplot(x=\"month\", data=df[df['year'] == 2021])\n",
        "for p in ax.patches:\n",
        "    ax.annotate('{:.1f}'.format(p.get_height()), (p.get_x()+0.25, p.get_height()+0.01))\n",
        "\n",
        "# 2021 shows a similiar pattern of the overall trip count "
      ]
    },
    {
      "cell_type": "code",
      "execution_count": 118,
      "metadata": {},
      "outputs": [
        {
          "data": {
            "image/png": "[encoded data removed]",
            "text/plain": [
              "<Figure size 700x300 with 1 Axes>"
            ]
          },
          "metadata": {},
          "output_type": "display_data"
        }
      ],
      "source": [
        "# EDA of 2022 year\n",
        "plt.rcParams[\"figure.figsize\"] = [7.00, 3.00]\n",
        "plt.rcParams[\"figure.autolayout\"] = True\n",
        "ax = sns.countplot(x=\"month\", data=df[df['year'] == 2022])\n",
        "for p in ax.patches:\n",
        "    ax.annotate('{:.1f}'.format(p.get_height()), (p.get_x()+0.25, p.get_height()+0.01))\n",
        "\n",
        "# 2022 shows a similiar pattern of the overall trip count "
      ]
    },
    {
      "cell_type": "code",
      "execution_count": 117,
      "metadata": {},
      "outputs": [
        {
          "data": {
            "image/png": "[encoded data removed]",
            "text/plain": [
              "<Figure size 700x300 with 1 Axes>"
            ]
          },
          "metadata": {},
          "output_type": "display_data"
        }
      ],
      "source": [
        "# EDA of 2023 year\n",
        "plt.rcParams[\"figure.figsize\"] = [7.00, 3.00]\n",
        "plt.rcParams[\"figure.autolayout\"] = True\n",
        "ax = sns.countplot(x=\"month\", data=df[df['year'] == 2023])\n",
        "for p in ax.patches:\n",
        "    ax.annotate('{:.1f}'.format(p.get_height()), (p.get_x()+0.25, p.get_height()+0.01))\n",
        "\n",
        "# since we have only january data in 2023, we have almost equal number of trips compared to other years."
      ]
    },
    {
      "attachments": {},
      "cell_type": "markdown",
      "metadata": {},
      "source": [
        "Cluster the hour based on different time and analyze the number of trips"
      ]
    },
    {
      "cell_type": "code",
      "execution_count": 143,
      "metadata": {},
      "outputs": [
        {
          "data": {
            "image/png": "[encoded data removed]",
            "text/plain": [
              "<Figure size 700x300 with 1 Axes>"
            ]
          },
          "metadata": {},
          "output_type": "display_data"
        }
      ],
      "source": [
        "for index, row in df.iterrows():\n",
        "  if row['hour'] <= 4:\n",
        "      df.at[index, 'hour cluster'] = 'Mid night'\n",
        "  elif (row['hour'] > 4) & (row['hour'] <= 7):\n",
        "      df.at[index, 'hour cluster'] = 'Early morning'\n",
        "  elif (row['hour'] > 7) & (row['hour'] <= 11):\n",
        "      df.at[index, 'hour cluster'] = 'Morning'\n",
        "  elif (row['hour'] > 11) & (row['hour']<= 14):\n",
        "      df.at[index, 'hour cluster'] = 'Noon'\n",
        "  elif (row['hour'] > 14) & (row['hour']<= 17):\n",
        "      df.at[index, 'hour cluster'] = 'After Noon'\n",
        "  elif (row['hour'] > 17) & (row['hour'] <= 21):\n",
        "      df.at[index, 'hour cluster'] = 'Evening'\n",
        "  elif (row['hour'] > 21) & (row['hour'] <= 23):\n",
        "      df.at[index, 'hour cluster'] = 'Mid night'\n",
        "\n",
        "# EDA of 2023 year\n",
        "plt.rcParams[\"figure.figsize\"] = [7.00, 3.00]\n",
        "plt.rcParams[\"figure.autolayout\"] = True\n",
        "ax = sns.countplot(x=\"hour cluster\", data=df)\n",
        "for p in ax.patches:\n",
        "    ax.annotate('{:.1f}'.format(p.get_height()), (p.get_x()+0.25, p.get_height()+0.01))\n",
        "\n"
      ]
    },
    {
      "attachments": {},
      "cell_type": "markdown",
      "metadata": {},
      "source": [
        "Most of the trips are occuring during evening section and least trips during early morning. Day time has a very good number of trips occuring"
      ]
    },
    {
      "attachments": {},
      "cell_type": "markdown",
      "metadata": {},
      "source": [
        "There are some amount fields in which we can see negative values which is not possible. also a very high value as well. so need to treat it and then do an analysis.\n",
        "\n",
        "Identify the columns which should not be less than zero, find the vendor who gave the data"
      ]
    },
    {
      "cell_type": "code",
      "execution_count": 144,
      "metadata": {},
      "outputs": [
        {
          "name": "stdout",
          "output_type": "stream",
          "text": [
            "VendorID\n",
            "1    2157\n",
            "2    1728\n",
            "4       6\n",
            "Name: VendorID, dtype: int64\n",
            "VendorID\n",
            "1      55\n",
            "2    1234\n",
            "6       2\n",
            "Name: VendorID, dtype: int64\n",
            "VendorID\n",
            "1     19196\n",
            "2    115465\n",
            "4       270\n",
            "5         3\n",
            "6       519\n",
            "Name: VendorID, dtype: int64\n",
            "VendorID\n",
            "1     710\n",
            "2    2605\n",
            "4       2\n",
            "6       2\n",
            "Name: VendorID, dtype: int64\n",
            "VendorID\n",
            "1    31632\n",
            "2    59584\n",
            "4      147\n",
            "5        1\n",
            "6      521\n",
            "Name: VendorID, dtype: int64\n",
            "VendorID\n",
            "1     97835\n",
            "2    188385\n",
            "4       467\n",
            "5         2\n",
            "6       521\n",
            "Name: VendorID, dtype: int64\n",
            "VendorID\n",
            "1      52\n",
            "2    1257\n",
            "6       2\n",
            "Name: VendorID, dtype: int64\n",
            "VendorID\n",
            "1      24\n",
            "2    1221\n",
            "Name: VendorID, dtype: int64\n",
            "VendorID\n",
            "1     7833\n",
            "2    15272\n",
            "4       14\n",
            "Name: VendorID, dtype: int64\n",
            "VendorID\n",
            "1    29480\n",
            "2    69390\n",
            "Name: VendorID, dtype: int64\n"
          ]
        }
      ],
      "source": [
        "non_negative_columns = ['trip_distance', 'fare_amount', 'extra', 'mta_tax', 'tip_amount', 'tolls_amount', 'improvement_surcharge', 'total_amount', 'congestion_surcharge', 'airport_fee']\n",
        "\n",
        "for column in non_negative_columns:\n",
        "    print(df[df[column] <= 0].groupby(['VendorID'])['VendorID'].count())"
      ]
    },
    {
      "attachments": {},
      "cell_type": "markdown",
      "metadata": {},
      "source": [
        "\n",
        "based on above comparison we can conclude that both the vendor are making mistakes in providing the records. But vendor 2(VeriFone Inc) is making more mistakes as compared to vendor 1(Creative Mobile Technologies) as you can see above."
      ]
    },
    {
      "attachments": {},
      "cell_type": "markdown",
      "metadata": {},
      "source": [
        "Impute incorrect data and find statistical values of non negative columns.\n",
        "\n",
        "Vendor 6 has 521 trips but passenger count, RatecodeID,store_and_fwd_flag and payment_type for all those trips are blanks. \n",
        "Also the trip datesare between from August 2020 and December 2022\n",
        "\n",
        "Venor 5 has only 3 trips . 1 in 2018 and 2 trips in 2021, so we can remove those trips as well from the dataset"
      ]
    },
    {
      "cell_type": "code",
      "execution_count": 14,
      "metadata": {},
      "outputs": [
        {
          "data": {
            "text/html": [
              "<div>\n",
              "<style scoped>\n",
              "    .dataframe tbody tr th:only-of-type {\n",
              "        vertical-align: middle;\n",
              "    }\n",
              "\n",
              "    .dataframe tbody tr th {\n",
              "        vertical-align: top;\n",
              "    }\n",
              "\n",
              "    .dataframe thead th {\n",
              "        text-align: right;\n",
              "    }\n",
              "</style>\n",
              "<table border=\"1\" class=\"dataframe\">\n",
              "  <thead>\n",
              "    <tr style=\"text-align: right;\">\n",
              "      <th></th>\n",
              "      <th>trip_distance</th>\n",
              "      <th>fare_amount</th>\n",
              "      <th>extra</th>\n",
              "      <th>mta_tax</th>\n",
              "      <th>tip_amount</th>\n",
              "      <th>tolls_amount</th>\n",
              "      <th>improvement_surcharge</th>\n",
              "      <th>total_amount</th>\n",
              "      <th>congestion_surcharge</th>\n",
              "      <th>airport_fee</th>\n",
              "    </tr>\n",
              "  </thead>\n",
              "  <tbody>\n",
              "    <tr>\n",
              "      <th>0</th>\n",
              "      <td>0.53</td>\n",
              "      <td>3.50</td>\n",
              "      <td>0.0</td>\n",
              "      <td>0.5</td>\n",
              "      <td>1.29</td>\n",
              "      <td>0.0</td>\n",
              "      <td>0.3</td>\n",
              "      <td>5.59</td>\n",
              "      <td>NaN</td>\n",
              "      <td>NaN</td>\n",
              "    </tr>\n",
              "    <tr>\n",
              "      <th>1</th>\n",
              "      <td>1.05</td>\n",
              "      <td>6.00</td>\n",
              "      <td>0.0</td>\n",
              "      <td>0.5</td>\n",
              "      <td>1.02</td>\n",
              "      <td>0.0</td>\n",
              "      <td>0.3</td>\n",
              "      <td>7.82</td>\n",
              "      <td>NaN</td>\n",
              "      <td>NaN</td>\n",
              "    </tr>\n",
              "    <tr>\n",
              "      <th>2</th>\n",
              "      <td>1.83</td>\n",
              "      <td>9.50</td>\n",
              "      <td>0.5</td>\n",
              "      <td>0.5</td>\n",
              "      <td>1.62</td>\n",
              "      <td>0.0</td>\n",
              "      <td>0.3</td>\n",
              "      <td>12.42</td>\n",
              "      <td>NaN</td>\n",
              "      <td>NaN</td>\n",
              "    </tr>\n",
              "    <tr>\n",
              "      <th>3</th>\n",
              "      <td>2.30</td>\n",
              "      <td>10.00</td>\n",
              "      <td>0.0</td>\n",
              "      <td>0.5</td>\n",
              "      <td>0.00</td>\n",
              "      <td>0.0</td>\n",
              "      <td>0.3</td>\n",
              "      <td>10.80</td>\n",
              "      <td>NaN</td>\n",
              "      <td>NaN</td>\n",
              "    </tr>\n",
              "    <tr>\n",
              "      <th>4</th>\n",
              "      <td>3.06</td>\n",
              "      <td>12.50</td>\n",
              "      <td>0.5</td>\n",
              "      <td>0.5</td>\n",
              "      <td>1.00</td>\n",
              "      <td>0.0</td>\n",
              "      <td>0.3</td>\n",
              "      <td>14.80</td>\n",
              "      <td>NaN</td>\n",
              "      <td>NaN</td>\n",
              "    </tr>\n",
              "    <tr>\n",
              "      <th>...</th>\n",
              "      <td>...</td>\n",
              "      <td>...</td>\n",
              "      <td>...</td>\n",
              "      <td>...</td>\n",
              "      <td>...</td>\n",
              "      <td>...</td>\n",
              "      <td>...</td>\n",
              "      <td>...</td>\n",
              "      <td>...</td>\n",
              "      <td>...</td>\n",
              "    </tr>\n",
              "    <tr>\n",
              "      <th>304973</th>\n",
              "      <td>6.50</td>\n",
              "      <td>27.75</td>\n",
              "      <td>0.0</td>\n",
              "      <td>0.5</td>\n",
              "      <td>0.00</td>\n",
              "      <td>0.0</td>\n",
              "      <td>0.3</td>\n",
              "      <td>35.70</td>\n",
              "      <td>0.0</td>\n",
              "      <td>0.0</td>\n",
              "    </tr>\n",
              "    <tr>\n",
              "      <th>304974</th>\n",
              "      <td>6.50</td>\n",
              "      <td>27.75</td>\n",
              "      <td>2.5</td>\n",
              "      <td>0.5</td>\n",
              "      <td>0.00</td>\n",
              "      <td>0.0</td>\n",
              "      <td>0.3</td>\n",
              "      <td>35.70</td>\n",
              "      <td>2.5</td>\n",
              "      <td>0.0</td>\n",
              "    </tr>\n",
              "    <tr>\n",
              "      <th>304975</th>\n",
              "      <td>0.71</td>\n",
              "      <td>12.10</td>\n",
              "      <td>0.0</td>\n",
              "      <td>0.5</td>\n",
              "      <td>0.00</td>\n",
              "      <td>0.0</td>\n",
              "      <td>0.3</td>\n",
              "      <td>16.10</td>\n",
              "      <td>2.5</td>\n",
              "      <td>0.0</td>\n",
              "    </tr>\n",
              "    <tr>\n",
              "      <th>304976</th>\n",
              "      <td>1.80</td>\n",
              "      <td>10.70</td>\n",
              "      <td>2.5</td>\n",
              "      <td>0.5</td>\n",
              "      <td>0.00</td>\n",
              "      <td>0.0</td>\n",
              "      <td>0.3</td>\n",
              "      <td>15.70</td>\n",
              "      <td>2.5</td>\n",
              "      <td>0.0</td>\n",
              "    </tr>\n",
              "    <tr>\n",
              "      <th>304977</th>\n",
              "      <td>6.50</td>\n",
              "      <td>27.75</td>\n",
              "      <td>2.5</td>\n",
              "      <td>0.5</td>\n",
              "      <td>7.28</td>\n",
              "      <td>0.0</td>\n",
              "      <td>0.3</td>\n",
              "      <td>35.70</td>\n",
              "      <td>2.5</td>\n",
              "      <td>0.0</td>\n",
              "    </tr>\n",
              "  </tbody>\n",
              "</table>\n",
              "<p>304454 rows × 10 columns</p>\n",
              "</div>"
            ],
            "text/plain": [
              "        trip_distance  fare_amount  extra  mta_tax  tip_amount  tolls_amount   \n",
              "0                0.53         3.50    0.0      0.5        1.29           0.0  \\\n",
              "1                1.05         6.00    0.0      0.5        1.02           0.0   \n",
              "2                1.83         9.50    0.5      0.5        1.62           0.0   \n",
              "3                2.30        10.00    0.0      0.5        0.00           0.0   \n",
              "4                3.06        12.50    0.5      0.5        1.00           0.0   \n",
              "...               ...          ...    ...      ...         ...           ...   \n",
              "304973           6.50        27.75    0.0      0.5        0.00           0.0   \n",
              "304974           6.50        27.75    2.5      0.5        0.00           0.0   \n",
              "304975           0.71        12.10    0.0      0.5        0.00           0.0   \n",
              "304976           1.80        10.70    2.5      0.5        0.00           0.0   \n",
              "304977           6.50        27.75    2.5      0.5        7.28           0.0   \n",
              "\n",
              "        improvement_surcharge  total_amount  congestion_surcharge  airport_fee  \n",
              "0                         0.3          5.59                   NaN          NaN  \n",
              "1                         0.3          7.82                   NaN          NaN  \n",
              "2                         0.3         12.42                   NaN          NaN  \n",
              "3                         0.3         10.80                   NaN          NaN  \n",
              "4                         0.3         14.80                   NaN          NaN  \n",
              "...                       ...           ...                   ...          ...  \n",
              "304973                    0.3         35.70                   0.0          0.0  \n",
              "304974                    0.3         35.70                   2.5          0.0  \n",
              "304975                    0.3         16.10                   2.5          0.0  \n",
              "304976                    0.3         15.70                   2.5          0.0  \n",
              "304977                    0.3         35.70                   2.5          0.0  \n",
              "\n",
              "[304454 rows x 10 columns]"
            ]
          },
          "execution_count": 14,
          "metadata": {},
          "output_type": "execute_result"
        }
      ],
      "source": [
        "df[non_negative_columns]"
      ]
    },
    {
      "cell_type": "code",
      "execution_count": 64,
      "metadata": {},
      "outputs": [],
      "source": [
        "df = df[df['VendorID'] != \"5\"]\n",
        "df = df[df['VendorID'] != \"6\"]\n",
        "\n",
        "# replace all the negative values in those columns by zero\n",
        "non_negative_columns = ['trip_distance', 'fare_amount', 'extra', 'mta_tax', 'tip_amount', 'tolls_amount', 'improvement_surcharge', 'total_amount', 'congestion_surcharge', 'airport_fee']\n",
        "\n",
        "for index, row in df[non_negative_columns].iterrows():\n",
        "    for column in non_negative_columns:\n",
        "        if row[column] <= 0:\n",
        "            df.at[index, column] = 0\n",
        "\n",
        "# Outlier treatment using inter quartile range method\n",
        "\n",
        "def outlier_treatment(datacolumn):\n",
        "    sorted(datacolumn)\n",
        "    Q1,Q3 = np.percentile(datacolumn , [25,75])\n",
        "    IQR = (Q3 - Q1)\n",
        "    lower_range = (Q1 - (1.5 * IQR))\n",
        "    upper_range = (Q3 + (1.5 * IQR))\n",
        "    return lower_range,upper_range\n",
        "\n",
        "\n",
        "for column in non_negative_columns:\n",
        "    lowerbound,upperbound = outlier_treatment(df[column])\n",
        "\n",
        "    for index, row in df.iterrows():\n",
        "        if row[column] <= lowerbound:\n",
        "            df.at[index, column] = lowerbound\n",
        "        elif row[column] >= upperbound:\n",
        "            df.at[index, column] = upperbound"
      ]
    },
    {
      "cell_type": "code",
      "execution_count": 18,
      "metadata": {},
      "outputs": [
        {
          "data": {
            "text/plain": [
              "<Figure size 640x480 with 0 Axes>"
            ]
          },
          "metadata": {},
          "output_type": "display_data"
        },
        {
          "data": {
            "image/png": "[encoded data removed]",
            "text/plain": [
              "<Figure size 400x200 with 1 Axes>"
            ]
          },
          "metadata": {},
          "output_type": "display_data"
        },
        {
          "data": {
            "text/plain": [
              "<Figure size 640x480 with 0 Axes>"
            ]
          },
          "metadata": {},
          "output_type": "display_data"
        },
        {
          "data": {
            "image/png": "[encoded data removed]",
            "text/plain": [
              "<Figure size 400x200 with 1 Axes>"
            ]
          },
          "metadata": {},
          "output_type": "display_data"
        },
        {
          "data": {
            "text/plain": [
              "<Figure size 640x480 with 0 Axes>"
            ]
          },
          "metadata": {},
          "output_type": "display_data"
        },
        {
          "data": {
            "image/png": "[encoded data removed]",
            "text/plain": [
              "<Figure size 400x200 with 1 Axes>"
            ]
          },
          "metadata": {},
          "output_type": "display_data"
        },
        {
          "data": {
            "text/plain": [
              "<Figure size 640x480 with 0 Axes>"
            ]
          },
          "metadata": {},
          "output_type": "display_data"
        },
        {
          "data": {
            "image/png": "[encoded data removed]",
            "text/plain": [
              "<Figure size 400x200 with 1 Axes>"
            ]
          },
          "metadata": {},
          "output_type": "display_data"
        },
        {
          "data": {
            "text/plain": [
              "<Figure size 640x480 with 0 Axes>"
            ]
          },
          "metadata": {},
          "output_type": "display_data"
        },
        {
          "data": {
            "image/png": "[encoded data removed]",
            "text/plain": [
              "<Figure size 400x200 with 1 Axes>"
            ]
          },
          "metadata": {},
          "output_type": "display_data"
        },
        {
          "data": {
            "text/plain": [
              "<Figure size 640x480 with 0 Axes>"
            ]
          },
          "metadata": {},
          "output_type": "display_data"
        },
        {
          "data": {
            "image/png": "[encoded data removed]",
            "text/plain": [
              "<Figure size 400x200 with 1 Axes>"
            ]
          },
          "metadata": {},
          "output_type": "display_data"
        },
        {
          "data": {
            "text/plain": [
              "<Figure size 640x480 with 0 Axes>"
            ]
          },
          "metadata": {},
          "output_type": "display_data"
        },
        {
          "data": {
            "image/png": "[encoded data removed]",
            "text/plain": [
              "<Figure size 400x200 with 1 Axes>"
            ]
          },
          "metadata": {},
          "output_type": "display_data"
        },
        {
          "data": {
            "text/plain": [
              "<Figure size 640x480 with 0 Axes>"
            ]
          },
          "metadata": {},
          "output_type": "display_data"
        },
        {
          "data": {
            "image/png": "[encoded data removed]",
            "text/plain": [
              "<Figure size 400x200 with 1 Axes>"
            ]
          },
          "metadata": {},
          "output_type": "display_data"
        },
        {
          "data": {
            "text/plain": [
              "<Figure size 640x480 with 0 Axes>"
            ]
          },
          "metadata": {},
          "output_type": "display_data"
        },
        {
          "data": {
            "image/png": "[encoded data removed]",
            "text/plain": [
              "<Figure size 400x200 with 1 Axes>"
            ]
          },
          "metadata": {},
          "output_type": "display_data"
        },
        {
          "data": {
            "text/plain": [
              "<Figure size 640x480 with 0 Axes>"
            ]
          },
          "metadata": {},
          "output_type": "display_data"
        },
        {
          "data": {
            "image/png": "[encoded data removed]",
            "text/plain": [
              "<Figure size 400x200 with 1 Axes>"
            ]
          },
          "metadata": {},
          "output_type": "display_data"
        }
      ],
      "source": [
        "# Check for outliers in the continuos data - after outlier treatment\n",
        "\n",
        "for i in non_negative_columns:\n",
        "    plt.figure()\n",
        "    fig, ax = plt.subplots(figsize=(4, 2)) \n",
        "    # drawing the plot\n",
        "    sns.boxplot(data=df, x=i)\n",
        "    plt.show()\n",
        "\n",
        "\n",
        "# It is clear that all the outliers have been removed"
      ]
    },
    {
      "cell_type": "code",
      "execution_count": 23,
      "metadata": {},
      "outputs": [
        {
          "data": {
            "text/html": [
              "<div>\n",
              "<style scoped>\n",
              "    .dataframe tbody tr th:only-of-type {\n",
              "        vertical-align: middle;\n",
              "    }\n",
              "\n",
              "    .dataframe tbody tr th {\n",
              "        vertical-align: top;\n",
              "    }\n",
              "\n",
              "    .dataframe thead th {\n",
              "        text-align: right;\n",
              "    }\n",
              "</style>\n",
              "<table border=\"1\" class=\"dataframe\">\n",
              "  <thead>\n",
              "    <tr style=\"text-align: right;\">\n",
              "      <th></th>\n",
              "      <th>trip_distance</th>\n",
              "      <th>fare_amount</th>\n",
              "      <th>extra</th>\n",
              "      <th>mta_tax</th>\n",
              "      <th>tip_amount</th>\n",
              "      <th>tolls_amount</th>\n",
              "      <th>improvement_surcharge</th>\n",
              "      <th>total_amount</th>\n",
              "      <th>congestion_surcharge</th>\n",
              "      <th>airport_fee</th>\n",
              "    </tr>\n",
              "  </thead>\n",
              "  <tbody>\n",
              "    <tr>\n",
              "      <th>count</th>\n",
              "      <td>304454.000000</td>\n",
              "      <td>304454.000000</td>\n",
              "      <td>304454.000000</td>\n",
              "      <td>304454.0</td>\n",
              "      <td>304454.000000</td>\n",
              "      <td>304454.0</td>\n",
              "      <td>3.044540e+05</td>\n",
              "      <td>304454.000000</td>\n",
              "      <td>232346.000000</td>\n",
              "      <td>106217.000000</td>\n",
              "    </tr>\n",
              "    <tr>\n",
              "      <th>mean</th>\n",
              "      <td>2.429159</td>\n",
              "      <td>11.911287</td>\n",
              "      <td>0.815983</td>\n",
              "      <td>0.5</td>\n",
              "      <td>2.040233</td>\n",
              "      <td>0.0</td>\n",
              "      <td>3.000000e-01</td>\n",
              "      <td>16.989357</td>\n",
              "      <td>2.251237</td>\n",
              "      <td>0.086462</td>\n",
              "    </tr>\n",
              "    <tr>\n",
              "      <th>std</th>\n",
              "      <td>1.919362</td>\n",
              "      <td>7.198187</td>\n",
              "      <td>0.992235</td>\n",
              "      <td>0.0</td>\n",
              "      <td>1.972576</td>\n",
              "      <td>0.0</td>\n",
              "      <td>1.110225e-16</td>\n",
              "      <td>8.569596</td>\n",
              "      <td>0.748350</td>\n",
              "      <td>0.317180</td>\n",
              "    </tr>\n",
              "    <tr>\n",
              "      <th>min</th>\n",
              "      <td>0.000000</td>\n",
              "      <td>0.000000</td>\n",
              "      <td>0.000000</td>\n",
              "      <td>0.5</td>\n",
              "      <td>0.000000</td>\n",
              "      <td>0.0</td>\n",
              "      <td>3.000000e-01</td>\n",
              "      <td>0.000000</td>\n",
              "      <td>0.000000</td>\n",
              "      <td>0.000000</td>\n",
              "    </tr>\n",
              "    <tr>\n",
              "      <th>25%</th>\n",
              "      <td>1.000000</td>\n",
              "      <td>6.500000</td>\n",
              "      <td>0.000000</td>\n",
              "      <td>0.5</td>\n",
              "      <td>0.000000</td>\n",
              "      <td>0.0</td>\n",
              "      <td>3.000000e-01</td>\n",
              "      <td>10.800000</td>\n",
              "      <td>2.500000</td>\n",
              "      <td>0.000000</td>\n",
              "    </tr>\n",
              "    <tr>\n",
              "      <th>50%</th>\n",
              "      <td>1.720000</td>\n",
              "      <td>9.500000</td>\n",
              "      <td>0.500000</td>\n",
              "      <td>0.5</td>\n",
              "      <td>1.890000</td>\n",
              "      <td>0.0</td>\n",
              "      <td>3.000000e-01</td>\n",
              "      <td>14.300000</td>\n",
              "      <td>2.500000</td>\n",
              "      <td>0.000000</td>\n",
              "    </tr>\n",
              "    <tr>\n",
              "      <th>75%</th>\n",
              "      <td>3.200000</td>\n",
              "      <td>15.000000</td>\n",
              "      <td>1.000000</td>\n",
              "      <td>0.5</td>\n",
              "      <td>2.950000</td>\n",
              "      <td>0.0</td>\n",
              "      <td>3.000000e-01</td>\n",
              "      <td>20.760000</td>\n",
              "      <td>2.500000</td>\n",
              "      <td>0.000000</td>\n",
              "    </tr>\n",
              "    <tr>\n",
              "      <th>max</th>\n",
              "      <td>6.500000</td>\n",
              "      <td>27.750000</td>\n",
              "      <td>2.500000</td>\n",
              "      <td>0.5</td>\n",
              "      <td>7.375000</td>\n",
              "      <td>0.0</td>\n",
              "      <td>3.000000e-01</td>\n",
              "      <td>35.700000</td>\n",
              "      <td>2.750000</td>\n",
              "      <td>1.250000</td>\n",
              "    </tr>\n",
              "  </tbody>\n",
              "</table>\n",
              "</div>"
            ],
            "text/plain": [
              "       trip_distance    fare_amount          extra   mta_tax     tip_amount   \n",
              "count  304454.000000  304454.000000  304454.000000  304454.0  304454.000000  \\\n",
              "mean        2.429159      11.911287       0.815983       0.5       2.040233   \n",
              "std         1.919362       7.198187       0.992235       0.0       1.972576   \n",
              "min         0.000000       0.000000       0.000000       0.5       0.000000   \n",
              "25%         1.000000       6.500000       0.000000       0.5       0.000000   \n",
              "50%         1.720000       9.500000       0.500000       0.5       1.890000   \n",
              "75%         3.200000      15.000000       1.000000       0.5       2.950000   \n",
              "max         6.500000      27.750000       2.500000       0.5       7.375000   \n",
              "\n",
              "       tolls_amount  improvement_surcharge   total_amount   \n",
              "count      304454.0           3.044540e+05  304454.000000  \\\n",
              "mean            0.0           3.000000e-01      16.989357   \n",
              "std             0.0           1.110225e-16       8.569596   \n",
              "min             0.0           3.000000e-01       0.000000   \n",
              "25%             0.0           3.000000e-01      10.800000   \n",
              "50%             0.0           3.000000e-01      14.300000   \n",
              "75%             0.0           3.000000e-01      20.760000   \n",
              "max             0.0           3.000000e-01      35.700000   \n",
              "\n",
              "       congestion_surcharge    airport_fee  \n",
              "count         232346.000000  106217.000000  \n",
              "mean               2.251237       0.086462  \n",
              "std                0.748350       0.317180  \n",
              "min                0.000000       0.000000  \n",
              "25%                2.500000       0.000000  \n",
              "50%                2.500000       0.000000  \n",
              "75%                2.500000       0.000000  \n",
              "max                2.750000       1.250000  "
            ]
          },
          "execution_count": 23,
          "metadata": {},
          "output_type": "execute_result"
        }
      ],
      "source": [
        "df[non_negative_columns].describe()\n",
        "\n",
        "# we can see the average value of all the numeric columns"
      ]
    },
    {
      "cell_type": "code",
      "execution_count": 59,
      "metadata": {},
      "outputs": [
        {
          "name": "stdout",
          "output_type": "stream",
          "text": [
            "VendorID\n",
            "1    1.190483\n",
            "2    1.561775\n",
            "4    1.046000\n",
            "Name: passenger_count, dtype: float64\n",
            "VendorID\n",
            "1    2.278558\n",
            "2    2.506804\n",
            "4    2.194580\n",
            "Name: trip_distance, dtype: float64\n",
            "VendorID\n",
            "1    11.539650\n",
            "2    12.102781\n",
            "4    11.377300\n",
            "Name: fare_amount, dtype: float64\n",
            "VendorID\n",
            "1    1.763094\n",
            "2    0.332568\n",
            "4    0.326000\n",
            "Name: extra, dtype: float64\n"
          ]
        }
      ],
      "source": [
        "print(df.groupby(['VendorID'])['passenger_count'].mean())\n",
        "# All the vendors have trips with almost equal average passengers. But vedor 2 seems to have more passnegers\n",
        "\n",
        "print(df.groupby(['VendorID'])['trip_distance'].mean())\n",
        "# Average trip_distance for each TPEP provider is almost similiar\n",
        "\n",
        "print(df.groupby(['VendorID'])['fare_amount'].mean())\n",
        "# Average fare_amount for each TPEP provider is almost similiar\n",
        "\n",
        "print(df.groupby(['VendorID'])['extra'].mean())\n",
        "# Average extra for trips of TPEP provider 1 is greater compared to others\n"
      ]
    },
    {
      "cell_type": "code",
      "execution_count": 31,
      "metadata": {},
      "outputs": [
        {
          "name": "stdout",
          "output_type": "stream",
          "text": [
            "VendorID\n",
            "1    0.5\n",
            "2    0.5\n",
            "4    0.5\n",
            "Name: mta_tax, dtype: float64\n",
            "VendorID\n",
            "1    1.942108\n",
            "2    2.090559\n",
            "4    1.993970\n",
            "Name: tip_amount, dtype: float64\n",
            "VendorID\n",
            "1    0.0\n",
            "2    0.0\n",
            "4    0.0\n",
            "Name: tolls_amount, dtype: float64\n"
          ]
        }
      ],
      "source": [
        "print(df.groupby(['VendorID'])['mta_tax'].mean())\n",
        "# Average mta_tax for each TPEP provider is almost similiar\n",
        "\n",
        "print(df.groupby(['VendorID'])['tip_amount'].mean())\n",
        "# Average tip_amount for each TPEP provider is almost similiar\n",
        "\n",
        "print(df.groupby(['VendorID'])['tolls_amount'].mean())\n",
        "# Average tolls_amount for each TPEP provider is almost similiar"
      ]
    },
    {
      "cell_type": "code",
      "execution_count": 32,
      "metadata": {},
      "outputs": [
        {
          "name": "stdout",
          "output_type": "stream",
          "text": [
            "VendorID\n",
            "1    0.3\n",
            "2    0.3\n",
            "4    0.3\n",
            "Name: improvement_surcharge, dtype: float64\n",
            "VendorID\n",
            "1    16.421553\n",
            "2    17.284210\n",
            "4    15.256820\n",
            "Name: total_amount, dtype: float64\n",
            "VendorID\n",
            "1    2.240812\n",
            "2    2.256272\n",
            "4    2.244526\n",
            "Name: congestion_surcharge, dtype: float64\n",
            "VendorID\n",
            "1    0.072985\n",
            "2    0.092095\n",
            "4         NaN\n",
            "Name: airport_fee, dtype: float64\n"
          ]
        }
      ],
      "source": [
        "print(df.groupby(['VendorID'])['improvement_surcharge'].mean())\n",
        "# Average improvement_surcharge for each TPEP provider is almost similiar\n",
        "\n",
        "print(df.groupby(['VendorID'])['total_amount'].mean())\n",
        "# Average total_amount for each TPEP provider is almost similiar\n",
        "\n",
        "print(df.groupby(['VendorID'])['congestion_surcharge'].mean())\n",
        "# Average congestion_surcharge for each TPEP provider is almost similiar\n",
        "\n",
        "print(df.groupby(['VendorID'])['airport_fee'].mean())\n",
        "# Average airport_fee for each vendor is almost similiar"
      ]
    },
    {
      "attachments": {},
      "cell_type": "markdown",
      "metadata": {},
      "source": [
        "plot the correlation graph between numeric variables"
      ]
    },
    {
      "cell_type": "code",
      "execution_count": 65,
      "metadata": {},
      "outputs": [
        {
          "data": {
            "text/html": [
              "<div>\n",
              "<style scoped>\n",
              "    .dataframe tbody tr th:only-of-type {\n",
              "        vertical-align: middle;\n",
              "    }\n",
              "\n",
              "    .dataframe tbody tr th {\n",
              "        vertical-align: top;\n",
              "    }\n",
              "\n",
              "    .dataframe thead th {\n",
              "        text-align: right;\n",
              "    }\n",
              "</style>\n",
              "<table border=\"1\" class=\"dataframe\">\n",
              "  <thead>\n",
              "    <tr style=\"text-align: right;\">\n",
              "      <th></th>\n",
              "      <th>trip_distance</th>\n",
              "      <th>fare_amount</th>\n",
              "      <th>extra</th>\n",
              "      <th>mta_tax</th>\n",
              "      <th>tip_amount</th>\n",
              "      <th>tolls_amount</th>\n",
              "      <th>improvement_surcharge</th>\n",
              "      <th>total_amount</th>\n",
              "      <th>congestion_surcharge</th>\n",
              "      <th>airport_fee</th>\n",
              "      <th>passenger_count</th>\n",
              "    </tr>\n",
              "  </thead>\n",
              "  <tbody>\n",
              "    <tr>\n",
              "      <th>trip_distance</th>\n",
              "      <td>1.000000</td>\n",
              "      <td>0.908870</td>\n",
              "      <td>-0.019455</td>\n",
              "      <td>NaN</td>\n",
              "      <td>0.470618</td>\n",
              "      <td>NaN</td>\n",
              "      <td>NaN</td>\n",
              "      <td>0.887035</td>\n",
              "      <td>-0.095887</td>\n",
              "      <td>0.304648</td>\n",
              "      <td>-0.017382</td>\n",
              "    </tr>\n",
              "    <tr>\n",
              "      <th>fare_amount</th>\n",
              "      <td>0.908870</td>\n",
              "      <td>1.000000</td>\n",
              "      <td>-0.028312</td>\n",
              "      <td>NaN</td>\n",
              "      <td>0.493320</td>\n",
              "      <td>NaN</td>\n",
              "      <td>NaN</td>\n",
              "      <td>0.970808</td>\n",
              "      <td>-0.131959</td>\n",
              "      <td>0.310019</td>\n",
              "      <td>-0.027893</td>\n",
              "    </tr>\n",
              "    <tr>\n",
              "      <th>extra</th>\n",
              "      <td>-0.019455</td>\n",
              "      <td>-0.028312</td>\n",
              "      <td>1.000000</td>\n",
              "      <td>NaN</td>\n",
              "      <td>0.022331</td>\n",
              "      <td>NaN</td>\n",
              "      <td>NaN</td>\n",
              "      <td>0.033102</td>\n",
              "      <td>0.325918</td>\n",
              "      <td>0.004977</td>\n",
              "      <td>-0.107100</td>\n",
              "    </tr>\n",
              "    <tr>\n",
              "      <th>mta_tax</th>\n",
              "      <td>NaN</td>\n",
              "      <td>NaN</td>\n",
              "      <td>NaN</td>\n",
              "      <td>NaN</td>\n",
              "      <td>NaN</td>\n",
              "      <td>NaN</td>\n",
              "      <td>NaN</td>\n",
              "      <td>NaN</td>\n",
              "      <td>NaN</td>\n",
              "      <td>NaN</td>\n",
              "      <td>NaN</td>\n",
              "    </tr>\n",
              "    <tr>\n",
              "      <th>tip_amount</th>\n",
              "      <td>0.470618</td>\n",
              "      <td>0.493320</td>\n",
              "      <td>0.022331</td>\n",
              "      <td>NaN</td>\n",
              "      <td>1.000000</td>\n",
              "      <td>NaN</td>\n",
              "      <td>NaN</td>\n",
              "      <td>0.613884</td>\n",
              "      <td>0.082509</td>\n",
              "      <td>0.207037</td>\n",
              "      <td>-0.003106</td>\n",
              "    </tr>\n",
              "    <tr>\n",
              "      <th>tolls_amount</th>\n",
              "      <td>NaN</td>\n",
              "      <td>NaN</td>\n",
              "      <td>NaN</td>\n",
              "      <td>NaN</td>\n",
              "      <td>NaN</td>\n",
              "      <td>NaN</td>\n",
              "      <td>NaN</td>\n",
              "      <td>NaN</td>\n",
              "      <td>NaN</td>\n",
              "      <td>NaN</td>\n",
              "      <td>NaN</td>\n",
              "    </tr>\n",
              "    <tr>\n",
              "      <th>improvement_surcharge</th>\n",
              "      <td>NaN</td>\n",
              "      <td>NaN</td>\n",
              "      <td>NaN</td>\n",
              "      <td>NaN</td>\n",
              "      <td>NaN</td>\n",
              "      <td>NaN</td>\n",
              "      <td>NaN</td>\n",
              "      <td>NaN</td>\n",
              "      <td>NaN</td>\n",
              "      <td>NaN</td>\n",
              "      <td>NaN</td>\n",
              "    </tr>\n",
              "    <tr>\n",
              "      <th>total_amount</th>\n",
              "      <td>0.887035</td>\n",
              "      <td>0.970808</td>\n",
              "      <td>0.033102</td>\n",
              "      <td>NaN</td>\n",
              "      <td>0.613884</td>\n",
              "      <td>NaN</td>\n",
              "      <td>NaN</td>\n",
              "      <td>1.000000</td>\n",
              "      <td>0.008903</td>\n",
              "      <td>0.306330</td>\n",
              "      <td>-0.032684</td>\n",
              "    </tr>\n",
              "    <tr>\n",
              "      <th>congestion_surcharge</th>\n",
              "      <td>-0.095887</td>\n",
              "      <td>-0.131959</td>\n",
              "      <td>0.325918</td>\n",
              "      <td>NaN</td>\n",
              "      <td>0.082509</td>\n",
              "      <td>NaN</td>\n",
              "      <td>NaN</td>\n",
              "      <td>0.008903</td>\n",
              "      <td>1.000000</td>\n",
              "      <td>-0.053954</td>\n",
              "      <td>0.022918</td>\n",
              "    </tr>\n",
              "    <tr>\n",
              "      <th>airport_fee</th>\n",
              "      <td>0.304648</td>\n",
              "      <td>0.310019</td>\n",
              "      <td>0.004977</td>\n",
              "      <td>NaN</td>\n",
              "      <td>0.207037</td>\n",
              "      <td>NaN</td>\n",
              "      <td>NaN</td>\n",
              "      <td>0.306330</td>\n",
              "      <td>-0.053954</td>\n",
              "      <td>1.000000</td>\n",
              "      <td>0.006128</td>\n",
              "    </tr>\n",
              "    <tr>\n",
              "      <th>passenger_count</th>\n",
              "      <td>-0.017382</td>\n",
              "      <td>-0.027893</td>\n",
              "      <td>-0.107100</td>\n",
              "      <td>NaN</td>\n",
              "      <td>-0.003106</td>\n",
              "      <td>NaN</td>\n",
              "      <td>NaN</td>\n",
              "      <td>-0.032684</td>\n",
              "      <td>0.022918</td>\n",
              "      <td>0.006128</td>\n",
              "      <td>1.000000</td>\n",
              "    </tr>\n",
              "  </tbody>\n",
              "</table>\n",
              "</div>"
            ],
            "text/plain": [
              "                       trip_distance  fare_amount     extra  mta_tax   \n",
              "trip_distance               1.000000     0.908870 -0.019455      NaN  \\\n",
              "fare_amount                 0.908870     1.000000 -0.028312      NaN   \n",
              "extra                      -0.019455    -0.028312  1.000000      NaN   \n",
              "mta_tax                          NaN          NaN       NaN      NaN   \n",
              "tip_amount                  0.470618     0.493320  0.022331      NaN   \n",
              "tolls_amount                     NaN          NaN       NaN      NaN   \n",
              "improvement_surcharge            NaN          NaN       NaN      NaN   \n",
              "total_amount                0.887035     0.970808  0.033102      NaN   \n",
              "congestion_surcharge       -0.095887    -0.131959  0.325918      NaN   \n",
              "airport_fee                 0.304648     0.310019  0.004977      NaN   \n",
              "passenger_count            -0.017382    -0.027893 -0.107100      NaN   \n",
              "\n",
              "                       tip_amount  tolls_amount  improvement_surcharge   \n",
              "trip_distance            0.470618           NaN                    NaN  \\\n",
              "fare_amount              0.493320           NaN                    NaN   \n",
              "extra                    0.022331           NaN                    NaN   \n",
              "mta_tax                       NaN           NaN                    NaN   \n",
              "tip_amount               1.000000           NaN                    NaN   \n",
              "tolls_amount                  NaN           NaN                    NaN   \n",
              "improvement_surcharge         NaN           NaN                    NaN   \n",
              "total_amount             0.613884           NaN                    NaN   \n",
              "congestion_surcharge     0.082509           NaN                    NaN   \n",
              "airport_fee              0.207037           NaN                    NaN   \n",
              "passenger_count         -0.003106           NaN                    NaN   \n",
              "\n",
              "                       total_amount  congestion_surcharge  airport_fee   \n",
              "trip_distance              0.887035             -0.095887     0.304648  \\\n",
              "fare_amount                0.970808             -0.131959     0.310019   \n",
              "extra                      0.033102              0.325918     0.004977   \n",
              "mta_tax                         NaN                   NaN          NaN   \n",
              "tip_amount                 0.613884              0.082509     0.207037   \n",
              "tolls_amount                    NaN                   NaN          NaN   \n",
              "improvement_surcharge           NaN                   NaN          NaN   \n",
              "total_amount               1.000000              0.008903     0.306330   \n",
              "congestion_surcharge       0.008903              1.000000    -0.053954   \n",
              "airport_fee                0.306330             -0.053954     1.000000   \n",
              "passenger_count           -0.032684              0.022918     0.006128   \n",
              "\n",
              "                       passenger_count  \n",
              "trip_distance                -0.017382  \n",
              "fare_amount                  -0.027893  \n",
              "extra                        -0.107100  \n",
              "mta_tax                            NaN  \n",
              "tip_amount                   -0.003106  \n",
              "tolls_amount                       NaN  \n",
              "improvement_surcharge              NaN  \n",
              "total_amount                 -0.032684  \n",
              "congestion_surcharge          0.022918  \n",
              "airport_fee                   0.006128  \n",
              "passenger_count               1.000000  "
            ]
          },
          "execution_count": 65,
          "metadata": {},
          "output_type": "execute_result"
        }
      ],
      "source": [
        "non_negative_columns.append('passenger_count')\n",
        "df[non_negative_columns] = df[non_negative_columns].fillna(0)\n",
        "df['passenger_count'] = df['passenger_count'].astype('int')\n",
        "df[non_negative_columns].corr()"
      ]
    },
    {
      "attachments": {},
      "cell_type": "markdown",
      "metadata": {},
      "source": [
        "It is clear that trip_distance and fare_amount and total_amount is highly correlated\n",
        "also tip_amount is correlated with total_amount.\n",
        "Now lets see the congestion_surcharge and airport fee on different areas"
      ]
    },
    {
      "cell_type": "code",
      "execution_count": 82,
      "metadata": {},
      "outputs": [
        {
          "data": {
            "text/plain": [
              "DOBorough\n",
              "Bronx            0.641723\n",
              "Brooklyn         0.948126\n",
              "EWR              0.098797\n",
              "Manhattan        1.832236\n",
              "Queens           0.955354\n",
              "Staten Island    0.448113\n",
              "Unknown          0.607122\n",
              "Name: congestion_surcharge, dtype: float64"
            ]
          },
          "execution_count": 82,
          "metadata": {},
          "output_type": "execute_result"
        }
      ],
      "source": [
        "df.groupby(['DOBorough'])['congestion_surcharge'].mean()\n",
        "# Manhattan has the highest congestion_surcharge followed by queens and unknown zones"
      ]
    },
    {
      "cell_type": "code",
      "execution_count": 83,
      "metadata": {},
      "outputs": [
        {
          "data": {
            "text/plain": [
              "DOBorough\n",
              "Bronx            0.067995\n",
              "Brooklyn         0.114887\n",
              "EWR              0.021478\n",
              "Manhattan        0.019676\n",
              "Queens           0.120026\n",
              "Staten Island    0.106132\n",
              "Unknown          0.078304\n",
              "Name: airport_fee, dtype: float64"
            ]
          },
          "execution_count": 83,
          "metadata": {},
          "output_type": "execute_result"
        }
      ],
      "source": [
        "df.groupby(['DOBorough'])['airport_fee'].mean()\n",
        "# Queens has the highest airport_fee for trips. "
      ]
    },
    {
      "cell_type": "code",
      "execution_count": 70,
      "metadata": {},
      "outputs": [
        {
          "data": {
            "text/plain": [
              "PUservice_zone\n",
              "Airports       0.956056\n",
              "Boro Zone      0.532513\n",
              "EWR            0.000000\n",
              "Yellow Zone    1.866794\n",
              "Name: congestion_surcharge, dtype: float64"
            ]
          },
          "execution_count": 70,
          "metadata": {},
          "output_type": "execute_result"
        }
      ],
      "source": [
        "df.groupby(['PUservice_zone'])['congestion_surcharge'].mean()\n",
        "# Yellow zone has more congestion_surcharge and manhattan comes under yellow zone"
      ]
    },
    {
      "cell_type": "code",
      "execution_count": 74,
      "metadata": {},
      "outputs": [
        {
          "data": {
            "text/plain": [
              "PUBorough\n",
              "Bronx            4.093884\n",
              "Brooklyn         3.663725\n",
              "EWR              0.223077\n",
              "Manhattan        2.158654\n",
              "Queens           5.601859\n",
              "Staten Island    5.006061\n",
              "Unknown          2.561813\n",
              "Name: trip_distance, dtype: float64"
            ]
          },
          "execution_count": 74,
          "metadata": {},
          "output_type": "execute_result"
        }
      ],
      "source": [
        "df.groupby(['PUBorough'])['trip_distance'].mean()\n",
        "# trips pn Bronx area has more trip_distance, followed by brooklyn"
      ]
    },
    {
      "cell_type": "code",
      "execution_count": 72,
      "metadata": {},
      "outputs": [
        {
          "data": {
            "text/plain": [
              "PUBorough\n",
              "Bronx            20.389868\n",
              "Brooklyn         18.009003\n",
              "EWR              25.019231\n",
              "Manhattan        10.823580\n",
              "Queens           24.036694\n",
              "Staten Island    23.393939\n",
              "Unknown          13.979581\n",
              "Name: fare_amount, dtype: float64"
            ]
          },
          "execution_count": 72,
          "metadata": {},
          "output_type": "execute_result"
        }
      ],
      "source": [
        "df.groupby(['PUBorough'])['fare_amount'].mean()\n",
        "# Bronx has the highest fare_amount for trips. "
      ]
    },
    {
      "cell_type": "code",
      "execution_count": 76,
      "metadata": {},
      "outputs": [
        {
          "data": {
            "text/plain": [
              "PUBorough\n",
              "Bronx            20.389868\n",
              "Brooklyn         18.009003\n",
              "EWR              25.019231\n",
              "Manhattan        10.823580\n",
              "Queens           24.036694\n",
              "Staten Island    23.393939\n",
              "Unknown          13.979581\n",
              "Name: fare_amount, dtype: float64"
            ]
          },
          "execution_count": 76,
          "metadata": {},
          "output_type": "execute_result"
        }
      ],
      "source": [
        "df.groupby(['PUBorough'])['fare_amount'].mean()\n",
        "# trips pn Bronx area has more trip_distance, followed by brooklyn"
      ]
    },
    {
      "cell_type": "code",
      "execution_count": 73,
      "metadata": {},
      "outputs": [
        {
          "data": {
            "text/plain": [
              "PUservice_zone\n",
              "Airports       25.685444\n",
              "Boro Zone      14.769164\n",
              "EWR            25.019231\n",
              "Yellow Zone    10.795127\n",
              "Name: fare_amount, dtype: float64"
            ]
          },
          "execution_count": 73,
          "metadata": {},
          "output_type": "execute_result"
        }
      ],
      "source": [
        "df.groupby(['PUservice_zone'])['fare_amount'].mean()\n",
        "# Airports has the highest fare_amount for trips. "
      ]
    },
    {
      "cell_type": "code",
      "execution_count": 77,
      "metadata": {},
      "outputs": [
        {
          "data": {
            "text/plain": [
              "PUBorough\n",
              "Bronx            0.467849\n",
              "Brooklyn         0.510881\n",
              "EWR              0.025641\n",
              "Manhattan        0.839778\n",
              "Queens           0.643376\n",
              "Staten Island    0.257576\n",
              "Unknown          0.481632\n",
              "Name: extra, dtype: float64"
            ]
          },
          "execution_count": 77,
          "metadata": {},
          "output_type": "execute_result"
        }
      ],
      "source": [
        "df.groupby(['PUBorough'])['extra'].mean()\n",
        "# Manhattan has the highest extra followed by queens and brooklyn"
      ]
    },
    {
      "cell_type": "code",
      "execution_count": 80,
      "metadata": {},
      "outputs": [
        {
          "data": {
            "text/plain": [
              "DOBorough\n",
              "Bronx            1.534590\n",
              "Brooklyn         3.137813\n",
              "EWR              5.495103\n",
              "Manhattan        1.924354\n",
              "Queens           3.016034\n",
              "Staten Island    2.074387\n",
              "Unknown          2.366393\n",
              "Name: tip_amount, dtype: float64"
            ]
          },
          "execution_count": 80,
          "metadata": {},
          "output_type": "execute_result"
        }
      ],
      "source": [
        "df.groupby(['DOBorough'])['tip_amount'].mean()\n",
        "# More tips were provided for the trips to EWR and Queens"
      ]
    },
    {
      "attachments": {},
      "cell_type": "markdown",
      "metadata": {},
      "source": [
        "From all the above analysis, i have come to the below conclusions\n",
        "\n",
        "1. The trips data is between january 2018 and january 2023 ( 5 year data)\n",
        "2. Most of the trips data is provided by the major TPEP provider VeriFone Inc and Creative Mobile Technologies\n",
        "3. Eventhough more data is provided by VeriFone Inc, it has so many incorrect data compared to Creative Mobile Technologies\n",
        "4. Evenythough there was only 500 trips provided by vendor 4, all the data was correct and no missing data was there. So it os highly suggested to install vendor 4 TPEP providers on cabs to improve data quality\n",
        "\n",
        "5. Most of the trips contain only 1 passenger.\n",
        "6. Average trip distance is 2.42 miles\n",
        "7. Most of the (97% ) of trips standard rate trips\n",
        "8. Most of the trip datas are not stored in vehicle memmory. they were send direclty.\n",
        "9. Yellow zone, mainly manhattan had most number of trips followed by queens and brooklyn\n",
        "10. 71.04 % of customers preferred credit card payment followed by cash payment (24.5 %)\n",
        "\n",
        "11. Even though more trips were on Manhattan, queens (yellow zone), all those trips were short trips and the trip distance & trip amount were also short. Trips from Bronx and brooklyn were longer trips and hence more trip amount.\n",
        "12. More tips were provided for the trips to EWR and Queens\n",
        "13. Congestion surcharge is more in manhattan(yellow zone) and airport fee is more in queens."
      ]
    }
  ],
  "metadata": {
    "colab": {
      "provenance": []
    },
    "kernelspec": {
      "display_name": "Python 3",
      "name": "python3"
    },
    "language_info": {
      "codemirror_mode": {
        "name": "ipython",
        "version": 3
      },
      "file_extension": ".py",
      "mimetype": "text/x-python",
      "name": "python",
      "nbconvert_exporter": "python",
      "pygments_lexer": "ipython3",
      "version": "3.11.3"
    }
  },
  "nbformat": 4,
  "nbformat_minor": 0
}
